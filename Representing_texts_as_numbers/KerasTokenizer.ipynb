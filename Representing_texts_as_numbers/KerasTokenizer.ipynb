{
  "cells": [
    {
      "cell_type": "code",
      "execution_count": null,
      "metadata": {
        "id": "JLWcE84F1J7D",
        "outputId": "7e3aa7e6-dab1-49d2-ff73-cb9f2ecdecfe",
        "colab": {
          "base_uri": "https://localhost:8080/"
        }
      },
      "outputs": [
        {
          "output_type": "execute_result",
          "data": {
            "text/plain": [
              "[[4, 1, 3, 2, 5, 6, 1, 2, 7], [1, 2, 8, 3, 9]]"
            ]
          },
          "metadata": {},
          "execution_count": 1
        }
      ],
      "source": [
        "from keras.preprocessing.text import Tokenizer\n",
        "\n",
        "max_words = 10\n",
        "\n",
        "tokenizer = Tokenizer(num_words=max_words)\n",
        "\n",
        "\n",
        "documents = [\"Learning Python programming is fast as Python is easy\",\n",
        "             \"Python is great programming language\"]\n",
        "\n",
        "tokenizer.fit_on_texts(documents)\n",
        "\n",
        "sequences = tokenizer.texts_to_sequences(documents)\n",
        "sequences"
      ]
    },
    {
      "cell_type": "code",
      "execution_count": null,
      "metadata": {
        "id": "JUFCvgOJ1J7L",
        "outputId": "6ec2e7ae-7d23-4008-f427-9a99ca90f5af",
        "colab": {
          "base_uri": "https://localhost:8080/"
        }
      },
      "outputs": [
        {
          "output_type": "execute_result",
          "data": {
            "text/plain": [
              "array([[4, 1, 3, 2, 5, 6, 1, 2, 7, 0],\n",
              "       [1, 2, 8, 3, 9, 0, 0, 0, 0, 0]], dtype=int32)"
            ]
          },
          "metadata": {},
          "execution_count": 2
        }
      ],
      "source": [
        "from keras.preprocessing.sequence import pad_sequences\n",
        "sequences_padded = pad_sequences(sequences, maxlen=10 , padding=\"post\")\n",
        "sequences_padded"
      ]
    }
  ],
  "metadata": {
    "kernelspec": {
      "display_name": "Python 3",
      "language": "python",
      "name": "python3"
    },
    "language_info": {
      "codemirror_mode": {
        "name": "ipython",
        "version": 3
      },
      "file_extension": ".py",
      "mimetype": "text/x-python",
      "name": "python",
      "nbconvert_exporter": "python",
      "pygments_lexer": "ipython3",
      "version": "3.11.3"
    },
    "orig_nbformat": 4,
    "colab": {
      "provenance": []
    }
  },
  "nbformat": 4,
  "nbformat_minor": 0
}