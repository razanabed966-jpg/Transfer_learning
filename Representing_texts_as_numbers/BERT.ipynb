{
  "cells": [
    {
      "cell_type": "code",
      "execution_count": 1,
      "metadata": {
        "colab": {
          "base_uri": "https://localhost:8080/",
          "height": 296,
          "referenced_widgets": [
            "dd9dc0cf739949f3b0dbd102c31d547c",
            "4dcd820b341747549fef8ffe0d3473ba",
            "62c63adfa1f04819b62babde28c8dab0",
            "81282b737f0447018827f91a3c188d8c",
            "1b3b34540b6c4abd84dd9b17f8206fc6",
            "03c721581cd94795bd535aaebf88dfca",
            "f326616f37e54950b8ddb981c31e4ded",
            "05f640db26e84dc6bbec47ab3cf5fb09",
            "41c8bc1b82f34fb7a42d9a150b45df49",
            "fb8e8cb4cec74dad95741440b018a6f4",
            "723c4c9dcc9b4432805b8c36a6686d5f",
            "3defc48931ee4219ad163cb34be66bae",
            "c9862c94ce674409a1c76e0364dad81d",
            "bcea97e1856a48f6abc0cd3f6fefefcd",
            "568920e6a7af4edbb806c42e5dcc1d95",
            "ad3ab26a36ce4b32a9afe71303e91db2",
            "dc233dc7df6148c58f4afec7fe05ac69",
            "e51b4f31b73446fdab1636ff3e121a1f",
            "9fd057886fe242e8b815ed87fdc19038",
            "786a73f3a96847fd9c359158ea266777",
            "4866f22031e243098ac7da27ae36e005",
            "2efb176f463b4ca1bcd4aadb75d1de00"
          ]
        },
        "id": "nei84xNTBNFW",
        "outputId": "caef37ed-8f5e-468e-80ae-c8ee332ac89a"
      },
      "outputs": [
        {
          "output_type": "stream",
          "name": "stderr",
          "text": [
            "/usr/local/lib/python3.10/dist-packages/huggingface_hub/utils/_token.py:89: UserWarning: \n",
            "The secret `HF_TOKEN` does not exist in your Colab secrets.\n",
            "To authenticate with the Hugging Face Hub, create a token in your settings tab (https://huggingface.co/settings/tokens), set it as secret in your Google Colab and restart your session.\n",
            "You will be able to reuse this secret in all of your notebooks.\n",
            "Please note that authentication is recommended but still optional to access public models or datasets.\n",
            "  warnings.warn(\n"
          ]
        },
        {
          "output_type": "display_data",
          "data": {
            "text/plain": [
              "config.json:   0%|          | 0.00/570 [00:00<?, ?B/s]"
            ],
            "application/vnd.jupyter.widget-view+json": {
              "version_major": 2,
              "version_minor": 0,
              "model_id": "dd9dc0cf739949f3b0dbd102c31d547c"
            }
          },
          "metadata": {}
        },
        {
          "output_type": "display_data",
          "data": {
            "text/plain": [
              "model.safetensors:   0%|          | 0.00/440M [00:00<?, ?B/s]"
            ],
            "application/vnd.jupyter.widget-view+json": {
              "version_major": 2,
              "version_minor": 0,
              "model_id": "3defc48931ee4219ad163cb34be66bae"
            }
          },
          "metadata": {}
        },
        {
          "output_type": "stream",
          "name": "stderr",
          "text": [
            "Some weights of the PyTorch model were not used when initializing the TF 2.0 model TFBertModel: ['cls.predictions.transform.LayerNorm.bias', 'cls.predictions.transform.dense.weight', 'cls.seq_relationship.weight', 'cls.predictions.transform.LayerNorm.weight', 'cls.seq_relationship.bias', 'cls.predictions.bias', 'cls.predictions.transform.dense.bias']\n",
            "- This IS expected if you are initializing TFBertModel from a PyTorch model trained on another task or with another architecture (e.g. initializing a TFBertForSequenceClassification model from a BertForPreTraining model).\n",
            "- This IS NOT expected if you are initializing TFBertModel from a PyTorch model that you expect to be exactly identical (e.g. initializing a TFBertForSequenceClassification model from a BertForSequenceClassification model).\n",
            "All the weights of TFBertModel were initialized from the PyTorch model.\n",
            "If your task is similar to the task the model of the checkpoint was trained on, you can already use TFBertModel for predictions without further training.\n"
          ]
        }
      ],
      "source": [
        "from transformers import TFBertModel\n",
        "bert_model_name = 'bert-base-uncased'\n",
        "bert_model = TFBertModel.from_pretrained(bert_model_name)\n"
      ]
    },
    {
      "cell_type": "code",
      "execution_count": null,
      "metadata": {
        "colab": {
          "base_uri": "https://localhost:8080/",
          "height": 133,
          "referenced_widgets": [
            "6c8802a60e1343139f14fee43f319cf2",
            "ea1ff057a48f4908a82102b3ac1da2f4",
            "5a1d6e428acb498b97241aad76e7ff12",
            "0a27a1b3314e48409fff559cbf25d7a7",
            "1db77e600a194350b93aadc312d2db5a",
            "fab252053c83410dadd128666cd05799",
            "abf042431f194b2ca236fe250e5237e6",
            "8d05d1646d294396ad1e75efcbba9832",
            "56b11f44fa624cd9ae0842e7794472ba",
            "25e2a23b973349f0a050c66371cb5576",
            "1def871cc80a408b9f0419b2b0dd5964",
            "a6cbd27cf8094fefaf0ca8902eb85d84",
            "3f4dae96945b47b3a7d6bed2aa59d9a8",
            "515986a7e4ca48028cd29abdc5132304",
            "325fa747edf74538b08e6593b2251ddb",
            "160984671be84bb684dc1de4fdd4bd3a",
            "3bcd74711be6459aaa070a5a355cc61a",
            "b96ba9753ecc4a35aab3a9f0102a3f48",
            "7364021c61734baf80b6d32c218eafe3",
            "8393d255b42e47b0b07f81bfc20b642b",
            "63b7eb9dceae484398b7bd47b5c76b8e",
            "f3a6cbf60dae4212ab09c09590989886",
            "ccaed3b2ae3041ddb0e73edef489c506",
            "91665e38ea2d4ddaba27ed8cf23cf799",
            "a07d4594f1504b19b19bc29688e98c08",
            "d8c85e81b7b0457ca768e6a8f2cc7d91",
            "811218ad7c4546f0a6649388f232520e",
            "421e428d30fa425dacdcec088ec6dbe3",
            "4121228a841b4a7ba26a8a80b91e1129",
            "a2dd3e1c949842ae902042b0393dd647",
            "8b93464016044f988063b4b6ea555659",
            "d66af0df03a34c838f0e6c4c3280e8e6",
            "ebfbaace3ef041bdac0155d8f388d4a3"
          ]
        },
        "id": "jW9kuiMIBNGE",
        "outputId": "b22790dd-8354-4863-bb8e-335b6b6269e4"
      },
      "outputs": [
        {
          "output_type": "display_data",
          "data": {
            "text/plain": [
              "tokenizer_config.json:   0%|          | 0.00/48.0 [00:00<?, ?B/s]"
            ],
            "application/vnd.jupyter.widget-view+json": {
              "version_major": 2,
              "version_minor": 0,
              "model_id": "6c8802a60e1343139f14fee43f319cf2"
            }
          },
          "metadata": {}
        },
        {
          "output_type": "display_data",
          "data": {
            "text/plain": [
              "vocab.txt:   0%|          | 0.00/232k [00:00<?, ?B/s]"
            ],
            "application/vnd.jupyter.widget-view+json": {
              "version_major": 2,
              "version_minor": 0,
              "model_id": "a6cbd27cf8094fefaf0ca8902eb85d84"
            }
          },
          "metadata": {}
        },
        {
          "output_type": "display_data",
          "data": {
            "text/plain": [
              "tokenizer.json:   0%|          | 0.00/466k [00:00<?, ?B/s]"
            ],
            "application/vnd.jupyter.widget-view+json": {
              "version_major": 2,
              "version_minor": 0,
              "model_id": "ccaed3b2ae3041ddb0e73edef489c506"
            }
          },
          "metadata": {}
        }
      ],
      "source": [
        "from transformers import BertTokenizer\n",
        "bert_tokenizer = BertTokenizer.from_pretrained(bert_model_name)\n"
      ]
    },
    {
      "cell_type": "code",
      "execution_count": null,
      "metadata": {
        "colab": {
          "base_uri": "https://localhost:8080/"
        },
        "id": "1m30mYj2BNGJ",
        "outputId": "ff396356-c2b1-4efa-e42f-13e4cf8c2895"
      },
      "outputs": [
        {
          "output_type": "stream",
          "name": "stdout",
          "text": [
            "Token: play, Token ID: 2377\n",
            "Token: football, Token ID: 2374\n"
          ]
        }
      ],
      "source": [
        "sentence=\"play football\"\n",
        "\n",
        "tokens = bert_tokenizer.tokenize(sentence)\n",
        "\n",
        "for token in tokens:\n",
        "    token_id = bert_tokenizer.convert_tokens_to_ids(token)\n",
        "    print(f\"Token: {token}, Token ID: {token_id}\")\n"
      ]
    },
    {
      "cell_type": "code",
      "execution_count": null,
      "metadata": {
        "colab": {
          "base_uri": "https://localhost:8080/"
        },
        "id": "j39LjODlBNGd",
        "outputId": "c5610eaa-6b1c-4cc0-bb7f-e66e53c07cae"
      },
      "outputs": [
        {
          "output_type": "stream",
          "name": "stdout",
          "text": [
            "Token: play, Token ID: 2377\n",
            "Token: foot, Token ID: 3329\n",
            "Token: ##t, Token ID: 2102\n",
            "Token: ##ball, Token ID: 7384\n"
          ]
        }
      ],
      "source": [
        "sentence=\"play foottball\"\n",
        "\n",
        "tokens = bert_tokenizer.tokenize(sentence)\n",
        "\n",
        "for token in tokens:\n",
        "    token_id = bert_tokenizer.convert_tokens_to_ids(token)\n",
        "    print(f\"Token: {token}, Token ID: {token_id}\")\n"
      ]
    },
    {
      "cell_type": "code",
      "execution_count": null,
      "metadata": {
        "colab": {
          "base_uri": "https://localhost:8080/"
        },
        "id": "U2D_ePweBNGn",
        "outputId": "3c3fb781-c80c-433e-ba86-1044052c8b1b"
      },
      "outputs": [
        {
          "output_type": "execute_result",
          "data": {
            "text/plain": [
              "{'input_ids': <tf.Tensor: shape=(1, 4), dtype=int32, numpy=array([[ 101, 2377, 2374,  102]], dtype=int32)>, 'token_type_ids': <tf.Tensor: shape=(1, 4), dtype=int32, numpy=array([[0, 0, 0, 0]], dtype=int32)>, 'attention_mask': <tf.Tensor: shape=(1, 4), dtype=int32, numpy=array([[1, 1, 1, 1]], dtype=int32)>}"
            ]
          },
          "metadata": {},
          "execution_count": 5
        }
      ],
      "source": [
        "sentence = \"play football\"\n",
        "\n",
        "tokens_ids_tensor = bert_tokenizer(sentence, return_tensors='tf')\n",
        "tokens_ids_tensor"
      ]
    },
    {
      "cell_type": "code",
      "execution_count": null,
      "metadata": {
        "colab": {
          "base_uri": "https://localhost:8080/"
        },
        "id": "Zj7tzjlJBNGq",
        "outputId": "acb1c0cd-68c6-4add-d9ca-6251c9952200"
      },
      "outputs": [
        {
          "output_type": "stream",
          "name": "stdout",
          "text": [
            "Tokens: [ 101 2377 2374  102]\n"
          ]
        }
      ],
      "source": [
        "tokens_ids=tokens_ids_tensor['input_ids']\n",
        "for i in range(len(tokens_ids)):\n",
        "    print(f\"Tokens: {tokens_ids[i]}\")"
      ]
    },
    {
      "cell_type": "code",
      "execution_count": null,
      "metadata": {
        "colab": {
          "base_uri": "https://localhost:8080/"
        },
        "id": "JVtcFLKFBNG6",
        "outputId": "33fa4b70-2049-4979-d6df-6faf9a47ac91"
      },
      "outputs": [
        {
          "output_type": "execute_result",
          "data": {
            "text/plain": [
              "<tf.Tensor: shape=(1, 4), dtype=int32, numpy=array([[ 101, 2377, 2374,  102]], dtype=int32)>"
            ]
          },
          "metadata": {},
          "execution_count": 7
        }
      ],
      "source": [
        "tokens_ids"
      ]
    },
    {
      "cell_type": "code",
      "execution_count": null,
      "metadata": {
        "colab": {
          "base_uri": "https://localhost:8080/"
        },
        "id": "BBzm6kwNBNHU",
        "outputId": "05773c17-e775-4ccd-a3bd-562340388a3b"
      },
      "outputs": [
        {
          "output_type": "execute_result",
          "data": {
            "text/plain": [
              "array([ 101, 2377, 2374,  102], dtype=int32)"
            ]
          },
          "metadata": {},
          "execution_count": 8
        }
      ],
      "source": [
        "tokens_ids.numpy()[0]"
      ]
    },
    {
      "cell_type": "code",
      "execution_count": null,
      "metadata": {
        "colab": {
          "base_uri": "https://localhost:8080/"
        },
        "id": "HqDWsZDxBNHf",
        "outputId": "e204d75f-2fc8-4a86-f34c-54ea8aa6ecf2"
      },
      "outputs": [
        {
          "output_type": "execute_result",
          "data": {
            "text/plain": [
              "['[CLS]', 'play', 'football', '[SEP]']"
            ]
          },
          "metadata": {},
          "execution_count": 9
        }
      ],
      "source": [
        "tokens = bert_tokenizer.convert_ids_to_tokens(tokens_ids[0])\n",
        "tokens"
      ]
    },
    {
      "cell_type": "code",
      "execution_count": null,
      "metadata": {
        "colab": {
          "base_uri": "https://localhost:8080/"
        },
        "id": "2GE5cHslBNHo",
        "outputId": "ac0d788d-3c8c-4205-9256-2ae9b97d03fa"
      },
      "outputs": [
        {
          "output_type": "execute_result",
          "data": {
            "text/plain": [
              "<tf.Tensor: shape=(4, 768), dtype=float32, numpy=\n",
              "array([[-0.06533393,  0.17863342, -0.7151851 , ..., -0.3502431 ,\n",
              "         0.25331253, -0.16033997],\n",
              "       [ 0.5684662 ,  0.38644454, -0.37973726, ..., -0.04288115,\n",
              "         0.8225426 , -0.5262483 ],\n",
              "       [-0.87382674,  0.46802184, -0.45601678, ..., -0.64438367,\n",
              "        -0.2901885 , -0.08778846],\n",
              "       [ 0.9062135 ,  0.01561301, -0.34200692, ...,  0.23352203,\n",
              "        -0.48927236, -0.33302477]], dtype=float32)>"
            ]
          },
          "metadata": {},
          "execution_count": 10
        }
      ],
      "source": [
        "outputs = bert_model(tokens_ids)\n",
        "embeddings = outputs.last_hidden_state[0]\n",
        "embeddings"
      ]
    },
    {
      "cell_type": "code",
      "execution_count": null,
      "metadata": {
        "colab": {
          "base_uri": "https://localhost:8080/"
        },
        "id": "Viw4CgeXBNHw",
        "outputId": "43b9e1cc-b3c4-4ac9-be93-7e6fc25f16e9"
      },
      "outputs": [
        {
          "output_type": "execute_result",
          "data": {
            "text/plain": [
              "768"
            ]
          },
          "metadata": {},
          "execution_count": 11
        }
      ],
      "source": [
        "len(embeddings[1])"
      ]
    },
    {
      "cell_type": "code",
      "execution_count": null,
      "metadata": {
        "colab": {
          "base_uri": "https://localhost:8080/"
        },
        "id": "hoTuytNABNH4",
        "outputId": "ce1a8a93-ac0f-4777-aabe-cc0ecabda161"
      },
      "outputs": [
        {
          "output_type": "execute_result",
          "data": {
            "text/plain": [
              "<tf.Tensor: shape=(768,), dtype=float32, numpy=\n",
              "array([ 5.68466187e-01,  3.86444539e-01, -3.79737258e-01, -4.53449517e-01,\n",
              "        2.75026947e-01,  1.52930841e-01,  5.20604610e-01,  2.33973563e-01,\n",
              "        2.06903890e-01,  1.78228140e-01,  8.34441334e-02, -1.84459031e-01,\n",
              "       -3.77947271e-01,  4.55421925e-01,  5.15616015e-02, -4.41768378e-01,\n",
              "        5.03026605e-01,  7.01987624e-01,  2.00024351e-01,  1.17048597e+00,\n",
              "       -4.69979703e-01,  2.55084634e-01, -1.44906677e-02,  4.87473786e-01,\n",
              "        4.82248574e-01, -3.72097373e-01,  1.97029173e-01,  7.42826402e-01,\n",
              "        4.49556261e-02, -1.24112152e-01,  2.77448088e-01,  1.12660684e-01,\n",
              "        3.78830552e-01,  5.70117235e-01, -5.55280030e-01, -3.46264333e-01,\n",
              "       -5.13958275e-01,  5.84937096e-01, -4.37671214e-01,  9.46374238e-01,\n",
              "        7.22997487e-02, -1.76262230e-01, -8.70639458e-02,  4.50080991e-01,\n",
              "       -2.37382591e-01, -3.04200977e-01,  2.14095891e-01, -4.02155787e-01,\n",
              "        1.43589169e-01, -1.35590136e-03,  3.46419096e-01,  3.74110997e-01,\n",
              "        1.22268051e-01,  2.64192879e-01,  1.60226569e-01,  8.15804005e-01,\n",
              "        1.25578837e-02,  4.59945768e-01,  6.10400885e-02,  3.02604064e-02,\n",
              "       -4.75086361e-01,  1.50126070e-01,  6.00356281e-01, -1.35363567e+00,\n",
              "       -1.13560773e-01,  3.51872712e-01, -7.61544108e-02,  6.83475792e-01,\n",
              "       -6.13386989e-01, -5.97863615e-01,  4.64496136e-01, -8.28697383e-01,\n",
              "       -7.24400401e-01,  1.82527527e-01,  1.01860300e-01, -3.88113678e-01,\n",
              "        1.15533009e-01,  3.23588312e-01, -4.26949203e-01, -8.02395105e-01,\n",
              "        5.69626570e-01,  5.57095408e-01, -8.80479932e-01,  8.41004848e-01,\n",
              "       -2.89899260e-01,  1.54393554e-01, -2.64291495e-01, -7.71590948e-01,\n",
              "        3.14023912e-01, -2.79191822e-01, -2.08226636e-01,  2.79889435e-01,\n",
              "       -6.87602401e-01, -3.68312001e-01, -1.92599550e-01, -3.53422940e-01,\n",
              "       -7.79071391e-01,  1.34228200e-01,  5.44423580e-01,  5.50766587e-01,\n",
              "        4.30673659e-01, -2.56805480e-01, -7.23200679e-01,  1.95122659e-01,\n",
              "        4.04528901e-02, -2.64515370e-01, -2.79142141e-01,  5.84461033e-01,\n",
              "        3.68495136e-01, -1.06160045e+00,  2.45179549e-01, -3.14457953e-01,\n",
              "       -1.76549688e-01, -9.47352946e-01,  4.43511039e-01,  8.56930971e-01,\n",
              "       -5.56268916e-02, -3.23488146e-01,  5.67280315e-02,  5.29434919e-01,\n",
              "       -6.90493107e-01,  5.80436826e-01, -1.98491275e-01,  5.90314031e-01,\n",
              "       -5.84256947e-01, -4.70596761e-01,  1.33879602e-01,  7.32144654e-01,\n",
              "        3.23508203e-01, -1.03264403e+00,  1.15803592e-01,  4.85928178e-01,\n",
              "       -6.16809428e-01, -2.40278408e-01,  5.42507432e-02,  5.77263534e-02,\n",
              "        2.60263473e-01, -1.37190282e-01, -5.00700355e-01,  7.68629372e-01,\n",
              "        6.76314592e-01,  3.02332640e-01, -1.19039488e+00, -9.98161554e-01,\n",
              "        5.72179794e-01,  2.55770385e-01, -8.81853998e-01, -1.13651574e-01,\n",
              "        5.98561168e-02,  4.20124233e-01,  7.01931775e-01, -4.31565344e-02,\n",
              "       -2.15623707e-01,  4.26275134e-01, -1.31746101e+00, -5.00632077e-03,\n",
              "        3.58245149e-03, -2.56705105e-01,  2.02530459e-01,  1.04693184e-02,\n",
              "        1.82480723e-01, -9.39983964e-01, -5.07943146e-02,  6.84106171e-01,\n",
              "       -1.06683505e+00,  2.13219821e-01,  1.20932013e-01,  2.23738790e-01,\n",
              "       -5.09177089e-01,  3.12766656e-02,  2.57043600e-01, -4.14392889e-01,\n",
              "        1.71252608e+00,  1.22105196e-01,  2.34429508e-01, -1.33436531e-01,\n",
              "       -2.65583545e-01, -1.19445011e-01, -5.37771046e-01,  8.37439060e-01,\n",
              "       -5.95828295e-01,  4.92219120e-01,  6.37029588e-01, -7.87013322e-02,\n",
              "        4.47283030e-01, -4.03591990e-01,  9.76872921e-01, -1.17919528e+00,\n",
              "       -2.46561915e-01,  4.16723013e-01,  7.96575963e-01, -9.38172042e-02,\n",
              "       -4.81085509e-01, -3.26077849e-01,  1.33959317e+00, -6.57918379e-02,\n",
              "       -7.78866783e-02, -3.51224005e-01, -5.69655418e-01, -6.00759029e-01,\n",
              "       -3.90212893e-01, -5.93386352e-01,  3.70929718e-01,  1.04126453e+00,\n",
              "       -2.80991614e-01,  1.66999698e+00, -4.68870848e-01, -1.01980515e-01,\n",
              "       -5.44544280e-01,  3.24988425e-01,  4.04037505e-01,  6.60161376e-02,\n",
              "        1.68224685e-02, -2.65203059e-01, -3.35529029e-01, -7.77099252e-01,\n",
              "       -2.07215324e-02,  4.13644820e-01, -2.00603053e-01, -2.09628791e-01,\n",
              "        7.16902465e-02,  1.11462563e-01, -8.81949663e-01,  4.67024088e-01,\n",
              "       -4.19089884e-01,  1.21534586e+00, -3.03813964e-01,  4.84079719e-01,\n",
              "        1.15288645e-01, -2.09483743e-01, -1.77325219e-01, -4.12294865e-01,\n",
              "        6.97880149e-01,  7.14259863e-01,  3.51833031e-02,  1.26707762e-01,\n",
              "       -4.63488251e-01,  2.30425730e-01, -3.76393795e-01,  2.17647240e-01,\n",
              "       -1.13929138e-01, -3.30731511e-01, -8.46323907e-01,  1.44360542e+00,\n",
              "       -5.49906731e-01, -3.03618144e-02,  4.56654668e-01, -6.70698404e-01,\n",
              "       -8.47052559e-02,  2.78618515e-01, -2.18083590e-01, -1.34550428e+00,\n",
              "       -2.19811246e-01, -9.46368575e-01, -8.47728610e-01,  4.49785054e-01,\n",
              "       -1.75762679e-02,  6.75406575e-01, -4.63522255e-01,  5.96325815e-01,\n",
              "       -8.03341031e-01,  2.91950226e-01,  1.27615964e+00,  4.83843207e-01,\n",
              "       -7.08420694e-01, -1.01054728e+00, -5.88178635e-01, -3.03956047e-02,\n",
              "       -2.58748502e-01,  1.96178883e-01,  1.02295920e-01, -5.98690771e-02,\n",
              "        3.34787607e-01, -1.31209159e+00,  1.39167473e-01, -1.17051646e-01,\n",
              "        1.76852718e-01, -6.97861761e-02, -9.02233645e-02, -1.18710853e-01,\n",
              "       -1.05757678e+00,  8.81983638e-01,  6.53891563e-01,  9.38698709e-01,\n",
              "       -1.69377029e-03, -1.96804538e-01,  4.26739573e-01,  5.25175452e-01,\n",
              "        4.08491433e-01, -1.25744328e-01, -3.67096424e-01,  8.22608054e-01,\n",
              "       -4.14492458e-01, -1.68975621e-01,  6.25534877e-02, -2.08555490e-01,\n",
              "        2.51908042e-02, -4.83352333e-01,  3.01279634e-01, -3.38181406e-02,\n",
              "        2.51049548e-02,  3.12681347e-01, -4.16121393e-01,  1.76133871e-01,\n",
              "       -3.93662900e-01,  4.83816564e-02, -1.87407523e-01, -4.06569779e-01,\n",
              "       -3.04334974e+00, -3.46526027e-01,  1.20291337e-01,  4.28312346e-02,\n",
              "        7.80877054e-01, -5.35933912e-01, -3.54056209e-02, -8.67752954e-02,\n",
              "       -1.04362106e+00, -6.68772280e-01,  1.71785712e-01,  7.38945603e-03,\n",
              "        3.35390836e-01,  6.94786787e-01,  8.66529822e-01, -7.67572373e-02,\n",
              "        9.68344510e-04, -1.62936592e+00, -7.93372154e-01,  1.36782300e+00,\n",
              "        4.07571495e-01,  6.77936792e-01,  2.18642637e-01, -5.81598997e-01,\n",
              "        1.63721412e-01,  1.02058268e+00, -6.76321030e-01, -3.81211966e-01,\n",
              "       -2.75523961e-01,  4.59564865e-01,  5.30630708e-01,  6.68770552e-01,\n",
              "        6.29671276e-01, -4.10480857e-01, -5.74688911e-01,  1.56667918e-01,\n",
              "        9.84990224e-02,  3.90942216e-01,  1.08699059e+00, -4.92032260e-01,\n",
              "       -9.26997185e-01, -7.87444562e-02, -7.43961036e-01,  4.67862844e-01,\n",
              "        2.66542315e-01,  7.18418837e-01,  3.37728798e-01,  2.29983240e-01,\n",
              "       -6.52925849e-01,  2.14433536e-01, -2.47151405e-01, -1.04432738e+00,\n",
              "        8.96097183e-01,  6.66639388e-01,  6.72474742e-01, -2.96607882e-01,\n",
              "        8.10494423e-02,  1.21301420e-01,  2.71806240e-01, -9.52480614e-01,\n",
              "        5.23221344e-02, -3.94953042e-01, -4.78552431e-01,  7.61804819e-01,\n",
              "        2.59838253e-01, -8.27160299e-01, -8.88769254e-02, -7.25765586e-01,\n",
              "        1.17152178e+00,  3.70867580e-01, -3.56858462e-01,  7.17942595e-01,\n",
              "       -3.18881422e-02, -4.75136787e-01, -4.22320873e-01,  3.45952213e-01,\n",
              "       -1.19354509e-01,  1.92903861e-01, -3.07386845e-01, -3.03389817e-01,\n",
              "       -4.06749636e-01, -7.10901916e-01, -3.18581223e-01,  5.41199923e-01,\n",
              "       -8.50318000e-03, -2.28602543e-01, -5.74741960e-01, -1.02528274e+00,\n",
              "       -2.53999740e-01,  3.22562873e-01,  6.88896477e-01, -1.54358834e-01,\n",
              "        9.27424729e-01, -3.63747060e-01, -3.86472046e-01, -3.17186505e-01,\n",
              "        2.47132301e-01, -9.19334471e-01, -2.59991251e-02, -4.81722355e-01,\n",
              "       -6.26230478e-01, -5.51768720e-01,  2.39370912e-01, -7.49524832e-01,\n",
              "        7.82183051e-01, -2.18620032e-01,  3.39032471e-01,  2.89409459e-01,\n",
              "        1.50385603e-01,  4.95272905e-01, -8.74988064e-02, -1.96428686e-01,\n",
              "        2.77087569e-01,  5.50002933e-01,  4.76529859e-02, -6.96550369e-01,\n",
              "       -4.22724597e-02,  3.79114240e-01, -3.39254946e-01, -3.00661117e-01,\n",
              "        5.79721808e-01, -1.44527733e-01, -5.72118796e-02, -9.55321670e-01,\n",
              "        2.25621924e-01,  3.53522599e-01, -2.90822983e-01, -7.92309642e-01,\n",
              "       -8.74107063e-01,  4.81770486e-01,  3.69494259e-01, -3.41660947e-01,\n",
              "       -3.75215232e-01, -7.25007832e-01, -5.63461900e-01, -5.15616238e-01,\n",
              "       -6.84776366e-01,  1.13932975e-01,  5.76113015e-02,  1.45572066e-01,\n",
              "        4.68865484e-01, -1.18231595e+00,  3.79265770e-02, -2.61474758e-01,\n",
              "        6.04796000e-02,  6.54445812e-02,  4.51501757e-01, -3.61823499e-01,\n",
              "        1.22010097e-01,  7.20311344e-01, -3.95639569e-01, -9.99780651e-03,\n",
              "       -1.44671783e-01, -1.40029967e-01, -6.08898513e-02, -8.04428935e-01,\n",
              "        6.21556282e-01, -4.40563470e-01, -4.56580907e-01, -1.85214415e-01,\n",
              "       -5.47021449e-01,  1.81918666e-01, -4.05086547e-01,  2.33167768e-01,\n",
              "        2.85697162e-01,  1.56005174e-01,  9.32976156e-02,  9.48366448e-02,\n",
              "       -3.87004524e-01,  5.98143697e-01,  6.71599090e-01, -1.36684790e-01,\n",
              "       -8.81672651e-02, -7.08858609e-01, -6.09317541e-01, -2.91517019e-01,\n",
              "       -2.73793697e-01,  5.64132690e-01,  2.35496581e-01, -3.40705752e-01,\n",
              "       -6.01955578e-02, -4.91795689e-01, -6.59812868e-01, -3.02721739e-01,\n",
              "       -7.60780156e-01,  1.62801184e-02, -1.70564190e-01,  2.73391783e-01,\n",
              "       -2.97504425e-01,  9.56649184e-01, -1.12011588e+00,  5.85810840e-01,\n",
              "       -4.08552706e-01, -9.39726472e-01, -7.23562360e-01, -1.87025636e-01,\n",
              "        1.94059134e-01, -8.01498890e-01,  1.09973148e-01,  4.61187154e-01,\n",
              "        3.57305229e-01, -4.32505459e-01, -2.38508180e-01, -1.98209018e-01,\n",
              "        1.68261087e+00,  1.46381989e-01, -2.36814469e-03,  3.63563001e-01,\n",
              "       -2.41608679e-01,  6.47504687e-01, -7.18953073e-01, -3.33696634e-01,\n",
              "       -4.74283189e-01, -1.06684649e+00, -6.11798644e-01,  5.30969143e-01,\n",
              "        6.86344564e-01,  4.07259583e-01,  2.77028322e-01, -1.41527280e-01,\n",
              "        1.14009306e-01,  5.97335696e-01, -5.68156004e-01, -6.65016770e-02,\n",
              "       -2.85663873e-01,  2.95430541e-01,  5.90443015e-02, -2.36940667e-01,\n",
              "        2.94998705e-01, -2.61287957e-01, -6.17597997e-03, -2.34192625e-01,\n",
              "        8.17081094e-01,  3.93158287e-01,  1.48053229e+00, -3.11652552e-02,\n",
              "       -6.68298423e-01,  1.96404010e-01,  8.34535360e-01,  2.49712408e-01,\n",
              "        3.44375700e-01, -4.29186851e-01, -6.65059090e-02, -7.04308331e-01,\n",
              "        7.68952072e-01, -3.20112854e-01, -7.47014642e-01,  7.60124862e-01,\n",
              "        3.23389798e-01,  7.51229465e-01,  8.55638564e-01,  2.04105854e-01,\n",
              "       -2.43606821e-01,  2.87516296e-01,  3.06747139e-01, -6.40189946e-01,\n",
              "       -2.25962438e-02,  7.43727863e-01,  5.73030934e-02,  1.50692642e-01,\n",
              "        3.26661021e-01, -3.61744352e-02, -3.17934632e-01,  2.46742219e-01,\n",
              "        7.20542669e-02,  8.82636845e-01,  7.56150067e-01,  2.80444413e-01,\n",
              "        3.87413502e-01,  2.15084627e-01, -8.74093994e-02, -4.09942508e-01,\n",
              "        6.01898849e-01,  5.37589312e-01,  8.55281889e-01,  1.22039236e-01,\n",
              "        4.50133532e-01, -5.18896759e-01, -8.44400108e-01,  6.86307371e-01,\n",
              "        1.05114293e+00,  5.68076611e-01, -3.33113521e-01, -8.86755049e-01,\n",
              "        9.05479014e-01,  2.16458738e-01, -2.58757830e-01, -6.35216385e-03,\n",
              "       -3.39033514e-01,  4.60616142e-01,  4.91274565e-01, -4.91336912e-01,\n",
              "       -2.30646670e-01,  6.38056695e-01,  6.54110491e-01, -3.88547957e-01,\n",
              "       -7.01466918e-01, -1.25873816e+00, -2.35340506e-01,  6.87440038e-01,\n",
              "       -1.17982781e+00,  1.27042210e+00,  6.16782844e-01,  2.00013861e-01,\n",
              "        3.83152306e-01, -2.47956768e-01,  3.76746505e-01, -1.47525221e-03,\n",
              "        5.66381335e-01,  1.17239642e+00, -1.66095361e-01, -1.24053812e+00,\n",
              "       -2.77179852e-02,  2.34363228e-01, -1.30775839e-01, -8.78006220e-02,\n",
              "       -9.00949359e-01, -4.04831439e-01, -4.24747467e-01,  1.23591259e-01,\n",
              "       -5.08670032e-01,  2.84272015e-01,  4.76395011e-01,  5.46741206e-03,\n",
              "        4.36620325e-01,  4.44485337e-01,  1.62005574e-01,  1.55773945e-02,\n",
              "        1.20372021e+00, -9.82832670e-01,  2.90135473e-01, -1.71109885e-02,\n",
              "       -1.58368170e-01,  3.42753679e-01,  2.92122774e-02, -3.59088063e-01,\n",
              "        5.71980923e-02, -3.00929189e-01, -2.31045246e-01,  2.72191525e-01,\n",
              "       -7.06408978e-01,  7.63358533e-01,  1.14097691e+00,  5.76448619e-01,\n",
              "        3.92054021e-01, -4.70661819e-02, -7.30402946e-01,  1.06077261e-01,\n",
              "        7.01385021e-01, -2.33830407e-01,  6.94733739e-01,  6.48760855e-01,\n",
              "        1.54014125e-01, -1.58415854e-01, -4.40252572e-03, -3.99160981e-01,\n",
              "        7.91999757e-01,  3.54236633e-01,  5.16402721e-01, -1.73302257e+00,\n",
              "        4.52814400e-01, -1.73827156e-01,  4.92033362e-01, -9.07469273e-01,\n",
              "        8.05966318e-01, -4.08071280e-03, -4.80704457e-02, -1.96311221e-01,\n",
              "       -8.23100686e-01,  2.85363078e-01, -6.01029515e-01,  3.87800664e-01,\n",
              "        4.65886682e-01,  3.18016186e-02,  1.67215511e-01,  1.28731728e-02,\n",
              "        1.05914259e+00, -4.97665286e-01,  5.43475449e-01, -2.57915482e-02,\n",
              "        3.92571568e-01,  2.55819559e-01, -5.51180422e-01, -5.80538750e-01,\n",
              "       -2.37091426e-02, -1.61136425e+00, -3.58555526e-01,  5.16695641e-02,\n",
              "       -1.34405270e-01, -4.33200359e-01,  1.12433881e-01,  2.45561674e-01,\n",
              "       -1.09607697e-01, -4.41789508e-01, -8.09630394e-01,  1.26555413e-01,\n",
              "       -2.95248896e-01,  4.65348661e-01,  1.23896459e-02,  7.88048923e-01,\n",
              "        3.00624907e-01,  3.36390495e-01, -5.88235855e-01, -7.44072914e-01,\n",
              "       -4.23047125e-01, -5.92368171e-02, -8.09332252e-01,  5.42223573e-01,\n",
              "       -5.32531261e-01, -1.88706756e-01,  5.67326844e-01,  4.50241506e-01,\n",
              "       -3.69489342e-01,  4.66381669e-01,  8.24340880e-01,  7.25925922e-01,\n",
              "        4.93873030e-01, -7.47506618e-01, -2.33666301e-01, -3.24098825e-01,\n",
              "        3.04833263e-01,  3.12852859e-01,  2.57396251e-01,  7.35588372e-01,\n",
              "       -2.63723195e-01, -1.09813106e+00, -6.82282984e-01,  4.47113603e-01,\n",
              "        6.38088211e-04, -1.31887639e+00, -8.46984744e-01,  1.57210231e-02,\n",
              "        3.26524794e-01, -3.38075399e-01, -4.25559044e-01, -2.83635497e-01,\n",
              "        5.41812420e-01,  6.76069677e-01,  7.79948980e-02, -1.02504766e+00,\n",
              "        2.82997042e-01,  9.42068398e-02,  4.99445379e-01,  5.57036579e-01,\n",
              "       -3.93056774e+00, -4.08537328e-01, -1.27991423e-01, -7.95983911e-01,\n",
              "        3.54065597e-01, -8.85279000e-01,  5.87922335e-01, -3.42707098e-01,\n",
              "        3.57570320e-01,  3.95625859e-01,  4.94150311e-01, -2.37744406e-01,\n",
              "       -4.48612213e-01, -4.28811461e-02,  8.22542608e-01, -5.26248276e-01],\n",
              "      dtype=float32)>"
            ]
          },
          "metadata": {},
          "execution_count": 12
        }
      ],
      "source": [
        "embeddings[1]"
      ]
    },
    {
      "cell_type": "code",
      "execution_count": null,
      "metadata": {
        "colab": {
          "base_uri": "https://localhost:8080/"
        },
        "id": "noPDHDlMBNH8",
        "outputId": "9915f540-5fd0-4937-d8df-f7cbff5b50bb"
      },
      "outputs": [
        {
          "output_type": "execute_result",
          "data": {
            "text/plain": [
              "(array([ 101, 1045, 2215, 2000, 2377, 2374, 2023, 2851,  102], dtype=int32),\n",
              " array([ 101, 2057, 2024, 2183, 2000, 1996, 4258, 2000, 3422, 1037, 2377,\n",
              "         102], dtype=int32))"
            ]
          },
          "metadata": {},
          "execution_count": 20
        }
      ],
      "source": [
        "word = \"play\"\n",
        "sentence1 = \"I want to play football this morning\"\n",
        "sentence2 = \"We are going to the theater to watch a play\"\n",
        "\n",
        "tokens_sentence1 = bert_tokenizer(sentence1, return_tensors='tf')\n",
        "tokens_sentence2 = bert_tokenizer(sentence2, return_tensors='tf')\n",
        "tokens_sentence1_ids=tokens_sentence1['input_ids'].numpy()[0]\n",
        "tokens_sentence2_ids=tokens_sentence2['input_ids'].numpy()[0]\n",
        "tokens_sentence1_ids,tokens_sentence2_ids"
      ]
    },
    {
      "cell_type": "code",
      "execution_count": null,
      "metadata": {
        "colab": {
          "base_uri": "https://localhost:8080/"
        },
        "id": "mePRxaSoBNIA",
        "outputId": "6eb6fa7e-3e01-4f65-ee08-34293cf4282e"
      },
      "outputs": [
        {
          "output_type": "execute_result",
          "data": {
            "text/plain": [
              "2377"
            ]
          },
          "metadata": {},
          "execution_count": 14
        }
      ],
      "source": [
        "word_id=bert_tokenizer.convert_tokens_to_ids(word)\n",
        "word_id"
      ]
    },
    {
      "cell_type": "code",
      "execution_count": null,
      "metadata": {
        "colab": {
          "base_uri": "https://localhost:8080/"
        },
        "id": "O_lUUlzPBNIF",
        "outputId": "61a114f4-b2cb-4558-94b2-aba5cf70e42d"
      },
      "outputs": [
        {
          "output_type": "execute_result",
          "data": {
            "text/plain": [
              "(4, 10)"
            ]
          },
          "metadata": {},
          "execution_count": 15
        }
      ],
      "source": [
        "import numpy as np\n",
        "word_token_index_sentence1 = np.where(tokens_sentence1_ids == word_id)[0][0]\n",
        "word_token_index_sentence2 = np.where(tokens_sentence2_ids == word_id)[0][0]\n",
        "word_token_index_sentence1,word_token_index_sentence2"
      ]
    },
    {
      "cell_type": "code",
      "execution_count": null,
      "metadata": {
        "colab": {
          "base_uri": "https://localhost:8080/"
        },
        "id": "UZZ9hlf4BNIS",
        "outputId": "1ed19c21-c1ad-4460-b749-66d94bac2e99"
      },
      "outputs": [
        {
          "output_type": "stream",
          "name": "stdout",
          "text": [
            "Similarity score: 48.61\n"
          ]
        }
      ],
      "source": [
        "outputs1 = bert_model(tokens_sentence1)\n",
        "outputs2 = bert_model(tokens_sentence2)\n",
        "\n",
        "embeddings_sentence1 = outputs1.last_hidden_state.numpy()[0]\n",
        "embeddings_sentence2 = outputs2.last_hidden_state.numpy()[0]\n",
        "\n",
        "embedding_word_sentence1 = embeddings_sentence1[word_token_index_sentence1]\n",
        "embedding_word_sentence2 = embeddings_sentence2[word_token_index_sentence2]\n",
        "\n",
        "from sklearn.metrics.pairwise import cosine_similarity\n",
        "similarity_score = cosine_similarity([embedding_word_sentence1], [embedding_word_sentence2])\n",
        "\n",
        "print(\"Similarity score:\", round(100*similarity_score[0][0],2))"
      ]
    },
    {
      "cell_type": "code",
      "execution_count": null,
      "metadata": {
        "colab": {
          "base_uri": "https://localhost:8080/"
        },
        "id": "w3o5DjTxBNIc",
        "outputId": "fbb6afa1-dc08-4a56-83bf-2ec10b219c0c"
      },
      "outputs": [
        {
          "output_type": "stream",
          "name": "stdout",
          "text": [
            "Similarity score: 77.29\n"
          ]
        }
      ],
      "source": [
        "sentence1 = \"I want to play football this morning\"\n",
        "sentence2 = \"I play tennis with Jack today\"\n",
        "tokens_sentence1 = bert_tokenizer(sentence1, return_tensors='tf')\n",
        "tokens_sentence2 = bert_tokenizer(sentence2, return_tensors='tf')\n",
        "tokens_sentence1_ids=tokens_sentence1['input_ids'].numpy()[0]\n",
        "tokens_sentence2_ids=tokens_sentence2['input_ids'].numpy()[0]\n",
        "word_id=bert_tokenizer.convert_tokens_to_ids(word)\n",
        "word_token_index_sentence1 = np.where(tokens_sentence1_ids == word_id)[0][0]\n",
        "word_token_index_sentence2 = np.where(tokens_sentence2_ids == word_id)[0][0]\n",
        "word_token_index_sentence1,word_token_index_sentence2\n",
        "word_token_index_sentence1 = np.where(tokens_sentence1_ids == word_id)[0][0]\n",
        "word_token_index_sentence2 = np.where(tokens_sentence2_ids == word_id)[0][0]\n",
        "outputs1 = bert_model(tokens_sentence1)\n",
        "outputs2 = bert_model(tokens_sentence2)\n",
        "\n",
        "embeddings_sentence1 = outputs1.last_hidden_state.numpy()[0]\n",
        "embeddings_sentence2 = outputs2.last_hidden_state.numpy()[0]\n",
        "\n",
        "embedding_word_sentence1 = embeddings_sentence1[word_token_index_sentence1]\n",
        "embedding_word_sentence2 = embeddings_sentence2[word_token_index_sentence2]\n",
        "\n",
        "from sklearn.metrics.pairwise import cosine_similarity\n",
        "similarity_score = cosine_similarity([embedding_word_sentence1], [embedding_word_sentence2])\n",
        "\n",
        "print(\"Similarity score:\", round(100*similarity_score[0][0],2))\n",
        "\n"
      ]
    },
    {
      "cell_type": "code",
      "execution_count": null,
      "metadata": {
        "colab": {
          "base_uri": "https://localhost:8080/"
        },
        "id": "mR_5bIzTBNIe",
        "outputId": "1d8294d3-7a99-4a34-e254-ab2b8f3388d9"
      },
      "outputs": [
        {
          "output_type": "stream",
          "name": "stdout",
          "text": [
            "Cosine similarity between: \n",
            "'I love programming in Python' and \n",
            "'Python is a great programming language': 0.81\n"
          ]
        },
        {
          "output_type": "stream",
          "name": "stderr",
          "text": [
            "<ipython-input-18-5e17e5b97cf3>:20: DeprecationWarning: Conversion of an array with ndim > 0 to a scalar is deprecated, and will error in future. Ensure you extract a single element from your array before performing this operation. (Deprecated NumPy 1.25.)\n",
            "  print(f\"Cosine similarity between: \\n'{sentence1}' and \\n'{sentence2}': {round(float(similarity_score), 2)}\")\n"
          ]
        }
      ],
      "source": [
        "sentence1 = \"I love programming in Python\"\n",
        "sentence2 = \"Python is a great programming language\"\n",
        "\n",
        "tokens_sentence1 = bert_tokenizer(sentence1, return_tensors='tf')\n",
        "tokens_sentence2 = bert_tokenizer(sentence2, return_tensors='tf')\n",
        "\n",
        "embeddings_sentence1 = bert_model(tokens_sentence1)['last_hidden_state']\n",
        "embeddings_sentence2 = bert_model(tokens_sentence2)['last_hidden_state']\n",
        "\n",
        "avg_embedding_sentence1 = np.mean(embeddings_sentence1, axis=1)\n",
        "avg_embedding_sentence2 = np.mean(embeddings_sentence2, axis=1)\n",
        "\n",
        "similarity_score = cosine_similarity(avg_embedding_sentence1, avg_embedding_sentence2)\n",
        "\n",
        "print(f\"Cosine similarity between: \\n'{sentence1}' and \\n'{sentence2}': {round(float(similarity_score), 2)}\")\n"
      ]
    },
    {
      "cell_type": "code",
      "execution_count": null,
      "metadata": {
        "colab": {
          "base_uri": "https://localhost:8080/"
        },
        "id": "B2RlVi4RBNIf",
        "outputId": "3d4d2d8b-440e-41d1-d37b-527de52fa24a"
      },
      "outputs": [
        {
          "output_type": "stream",
          "name": "stdout",
          "text": [
            "Cosine similarity between: \n",
            "'I love programming in Python' and \n",
            "'The movie was very bad': 0.54\n"
          ]
        },
        {
          "output_type": "stream",
          "name": "stderr",
          "text": [
            "<ipython-input-19-3cf8c6e622c6>:20: DeprecationWarning: Conversion of an array with ndim > 0 to a scalar is deprecated, and will error in future. Ensure you extract a single element from your array before performing this operation. (Deprecated NumPy 1.25.)\n",
            "  print(f\"Cosine similarity between: \\n'{sentence1}' and \\n'{sentence2}': {round(float(similarity_score), 2)}\")\n"
          ]
        }
      ],
      "source": [
        "sentence1 = \"I love programming in Python\"\n",
        "sentence2 = \"The movie was very bad\"\n",
        "\n",
        "tokens_sentence1 = bert_tokenizer(sentence1, return_tensors='tf')\n",
        "tokens_sentence2 = bert_tokenizer(sentence2, return_tensors='tf')\n",
        "\n",
        "embeddings_sentence1 = bert_model(tokens_sentence1)['last_hidden_state']\n",
        "embeddings_sentence2 = bert_model(tokens_sentence2)['last_hidden_state']\n",
        "\n",
        "avg_embedding_sentence1 = np.mean(embeddings_sentence1, axis=1)\n",
        "avg_embedding_sentence2 = np.mean(embeddings_sentence2, axis=1)\n",
        "\n",
        "similarity_score = cosine_similarity(avg_embedding_sentence1, avg_embedding_sentence2)\n",
        "\n",
        "print(f\"Cosine similarity between: \\n'{sentence1}' and \\n'{sentence2}': {round(float(similarity_score), 2)}\")\n"
      ]
    }
  ],
  "metadata": {
    "kernelspec": {
      "display_name": "Python 3",
      "language": "python",
      "name": "python3"
    },
    "language_info": {
      "codemirror_mode": {
        "name": "ipython",
        "version": 3
      },
      "file_extension": ".py",
      "mimetype": "text/x-python",
      "name": "python",
      "nbconvert_exporter": "python",
      "pygments_lexer": "ipython3",
      "version": "3.11.3"
    },
    "orig_nbformat": 4,
    "colab": {
      "provenance": []
    },
    "widgets": {
      "application/vnd.jupyter.widget-state+json": {
        "6c8802a60e1343139f14fee43f319cf2": {
          "model_module": "@jupyter-widgets/controls",
          "model_name": "HBoxModel",
          "model_module_version": "1.5.0",
          "state": {
            "_dom_classes": [],
            "_model_module": "@jupyter-widgets/controls",
            "_model_module_version": "1.5.0",
            "_model_name": "HBoxModel",
            "_view_count": null,
            "_view_module": "@jupyter-widgets/controls",
            "_view_module_version": "1.5.0",
            "_view_name": "HBoxView",
            "box_style": "",
            "children": [
              "IPY_MODEL_ea1ff057a48f4908a82102b3ac1da2f4",
              "IPY_MODEL_5a1d6e428acb498b97241aad76e7ff12",
              "IPY_MODEL_0a27a1b3314e48409fff559cbf25d7a7"
            ],
            "layout": "IPY_MODEL_1db77e600a194350b93aadc312d2db5a"
          }
        },
        "ea1ff057a48f4908a82102b3ac1da2f4": {
          "model_module": "@jupyter-widgets/controls",
          "model_name": "HTMLModel",
          "model_module_version": "1.5.0",
          "state": {
            "_dom_classes": [],
            "_model_module": "@jupyter-widgets/controls",
            "_model_module_version": "1.5.0",
            "_model_name": "HTMLModel",
            "_view_count": null,
            "_view_module": "@jupyter-widgets/controls",
            "_view_module_version": "1.5.0",
            "_view_name": "HTMLView",
            "description": "",
            "description_tooltip": null,
            "layout": "IPY_MODEL_fab252053c83410dadd128666cd05799",
            "placeholder": "​",
            "style": "IPY_MODEL_abf042431f194b2ca236fe250e5237e6",
            "value": "tokenizer_config.json: 100%"
          }
        },
        "5a1d6e428acb498b97241aad76e7ff12": {
          "model_module": "@jupyter-widgets/controls",
          "model_name": "FloatProgressModel",
          "model_module_version": "1.5.0",
          "state": {
            "_dom_classes": [],
            "_model_module": "@jupyter-widgets/controls",
            "_model_module_version": "1.5.0",
            "_model_name": "FloatProgressModel",
            "_view_count": null,
            "_view_module": "@jupyter-widgets/controls",
            "_view_module_version": "1.5.0",
            "_view_name": "ProgressView",
            "bar_style": "success",
            "description": "",
            "description_tooltip": null,
            "layout": "IPY_MODEL_8d05d1646d294396ad1e75efcbba9832",
            "max": 48,
            "min": 0,
            "orientation": "horizontal",
            "style": "IPY_MODEL_56b11f44fa624cd9ae0842e7794472ba",
            "value": 48
          }
        },
        "0a27a1b3314e48409fff559cbf25d7a7": {
          "model_module": "@jupyter-widgets/controls",
          "model_name": "HTMLModel",
          "model_module_version": "1.5.0",
          "state": {
            "_dom_classes": [],
            "_model_module": "@jupyter-widgets/controls",
            "_model_module_version": "1.5.0",
            "_model_name": "HTMLModel",
            "_view_count": null,
            "_view_module": "@jupyter-widgets/controls",
            "_view_module_version": "1.5.0",
            "_view_name": "HTMLView",
            "description": "",
            "description_tooltip": null,
            "layout": "IPY_MODEL_25e2a23b973349f0a050c66371cb5576",
            "placeholder": "​",
            "style": "IPY_MODEL_1def871cc80a408b9f0419b2b0dd5964",
            "value": " 48.0/48.0 [00:00&lt;00:00, 3.10kB/s]"
          }
        },
        "1db77e600a194350b93aadc312d2db5a": {
          "model_module": "@jupyter-widgets/base",
          "model_name": "LayoutModel",
          "model_module_version": "1.2.0",
          "state": {
            "_model_module": "@jupyter-widgets/base",
            "_model_module_version": "1.2.0",
            "_model_name": "LayoutModel",
            "_view_count": null,
            "_view_module": "@jupyter-widgets/base",
            "_view_module_version": "1.2.0",
            "_view_name": "LayoutView",
            "align_content": null,
            "align_items": null,
            "align_self": null,
            "border": null,
            "bottom": null,
            "display": null,
            "flex": null,
            "flex_flow": null,
            "grid_area": null,
            "grid_auto_columns": null,
            "grid_auto_flow": null,
            "grid_auto_rows": null,
            "grid_column": null,
            "grid_gap": null,
            "grid_row": null,
            "grid_template_areas": null,
            "grid_template_columns": null,
            "grid_template_rows": null,
            "height": null,
            "justify_content": null,
            "justify_items": null,
            "left": null,
            "margin": null,
            "max_height": null,
            "max_width": null,
            "min_height": null,
            "min_width": null,
            "object_fit": null,
            "object_position": null,
            "order": null,
            "overflow": null,
            "overflow_x": null,
            "overflow_y": null,
            "padding": null,
            "right": null,
            "top": null,
            "visibility": null,
            "width": null
          }
        },
        "fab252053c83410dadd128666cd05799": {
          "model_module": "@jupyter-widgets/base",
          "model_name": "LayoutModel",
          "model_module_version": "1.2.0",
          "state": {
            "_model_module": "@jupyter-widgets/base",
            "_model_module_version": "1.2.0",
            "_model_name": "LayoutModel",
            "_view_count": null,
            "_view_module": "@jupyter-widgets/base",
            "_view_module_version": "1.2.0",
            "_view_name": "LayoutView",
            "align_content": null,
            "align_items": null,
            "align_self": null,
            "border": null,
            "bottom": null,
            "display": null,
            "flex": null,
            "flex_flow": null,
            "grid_area": null,
            "grid_auto_columns": null,
            "grid_auto_flow": null,
            "grid_auto_rows": null,
            "grid_column": null,
            "grid_gap": null,
            "grid_row": null,
            "grid_template_areas": null,
            "grid_template_columns": null,
            "grid_template_rows": null,
            "height": null,
            "justify_content": null,
            "justify_items": null,
            "left": null,
            "margin": null,
            "max_height": null,
            "max_width": null,
            "min_height": null,
            "min_width": null,
            "object_fit": null,
            "object_position": null,
            "order": null,
            "overflow": null,
            "overflow_x": null,
            "overflow_y": null,
            "padding": null,
            "right": null,
            "top": null,
            "visibility": null,
            "width": null
          }
        },
        "abf042431f194b2ca236fe250e5237e6": {
          "model_module": "@jupyter-widgets/controls",
          "model_name": "DescriptionStyleModel",
          "model_module_version": "1.5.0",
          "state": {
            "_model_module": "@jupyter-widgets/controls",
            "_model_module_version": "1.5.0",
            "_model_name": "DescriptionStyleModel",
            "_view_count": null,
            "_view_module": "@jupyter-widgets/base",
            "_view_module_version": "1.2.0",
            "_view_name": "StyleView",
            "description_width": ""
          }
        },
        "8d05d1646d294396ad1e75efcbba9832": {
          "model_module": "@jupyter-widgets/base",
          "model_name": "LayoutModel",
          "model_module_version": "1.2.0",
          "state": {
            "_model_module": "@jupyter-widgets/base",
            "_model_module_version": "1.2.0",
            "_model_name": "LayoutModel",
            "_view_count": null,
            "_view_module": "@jupyter-widgets/base",
            "_view_module_version": "1.2.0",
            "_view_name": "LayoutView",
            "align_content": null,
            "align_items": null,
            "align_self": null,
            "border": null,
            "bottom": null,
            "display": null,
            "flex": null,
            "flex_flow": null,
            "grid_area": null,
            "grid_auto_columns": null,
            "grid_auto_flow": null,
            "grid_auto_rows": null,
            "grid_column": null,
            "grid_gap": null,
            "grid_row": null,
            "grid_template_areas": null,
            "grid_template_columns": null,
            "grid_template_rows": null,
            "height": null,
            "justify_content": null,
            "justify_items": null,
            "left": null,
            "margin": null,
            "max_height": null,
            "max_width": null,
            "min_height": null,
            "min_width": null,
            "object_fit": null,
            "object_position": null,
            "order": null,
            "overflow": null,
            "overflow_x": null,
            "overflow_y": null,
            "padding": null,
            "right": null,
            "top": null,
            "visibility": null,
            "width": null
          }
        },
        "56b11f44fa624cd9ae0842e7794472ba": {
          "model_module": "@jupyter-widgets/controls",
          "model_name": "ProgressStyleModel",
          "model_module_version": "1.5.0",
          "state": {
            "_model_module": "@jupyter-widgets/controls",
            "_model_module_version": "1.5.0",
            "_model_name": "ProgressStyleModel",
            "_view_count": null,
            "_view_module": "@jupyter-widgets/base",
            "_view_module_version": "1.2.0",
            "_view_name": "StyleView",
            "bar_color": null,
            "description_width": ""
          }
        },
        "25e2a23b973349f0a050c66371cb5576": {
          "model_module": "@jupyter-widgets/base",
          "model_name": "LayoutModel",
          "model_module_version": "1.2.0",
          "state": {
            "_model_module": "@jupyter-widgets/base",
            "_model_module_version": "1.2.0",
            "_model_name": "LayoutModel",
            "_view_count": null,
            "_view_module": "@jupyter-widgets/base",
            "_view_module_version": "1.2.0",
            "_view_name": "LayoutView",
            "align_content": null,
            "align_items": null,
            "align_self": null,
            "border": null,
            "bottom": null,
            "display": null,
            "flex": null,
            "flex_flow": null,
            "grid_area": null,
            "grid_auto_columns": null,
            "grid_auto_flow": null,
            "grid_auto_rows": null,
            "grid_column": null,
            "grid_gap": null,
            "grid_row": null,
            "grid_template_areas": null,
            "grid_template_columns": null,
            "grid_template_rows": null,
            "height": null,
            "justify_content": null,
            "justify_items": null,
            "left": null,
            "margin": null,
            "max_height": null,
            "max_width": null,
            "min_height": null,
            "min_width": null,
            "object_fit": null,
            "object_position": null,
            "order": null,
            "overflow": null,
            "overflow_x": null,
            "overflow_y": null,
            "padding": null,
            "right": null,
            "top": null,
            "visibility": null,
            "width": null
          }
        },
        "1def871cc80a408b9f0419b2b0dd5964": {
          "model_module": "@jupyter-widgets/controls",
          "model_name": "DescriptionStyleModel",
          "model_module_version": "1.5.0",
          "state": {
            "_model_module": "@jupyter-widgets/controls",
            "_model_module_version": "1.5.0",
            "_model_name": "DescriptionStyleModel",
            "_view_count": null,
            "_view_module": "@jupyter-widgets/base",
            "_view_module_version": "1.2.0",
            "_view_name": "StyleView",
            "description_width": ""
          }
        },
        "a6cbd27cf8094fefaf0ca8902eb85d84": {
          "model_module": "@jupyter-widgets/controls",
          "model_name": "HBoxModel",
          "model_module_version": "1.5.0",
          "state": {
            "_dom_classes": [],
            "_model_module": "@jupyter-widgets/controls",
            "_model_module_version": "1.5.0",
            "_model_name": "HBoxModel",
            "_view_count": null,
            "_view_module": "@jupyter-widgets/controls",
            "_view_module_version": "1.5.0",
            "_view_name": "HBoxView",
            "box_style": "",
            "children": [
              "IPY_MODEL_3f4dae96945b47b3a7d6bed2aa59d9a8",
              "IPY_MODEL_515986a7e4ca48028cd29abdc5132304",
              "IPY_MODEL_325fa747edf74538b08e6593b2251ddb"
            ],
            "layout": "IPY_MODEL_160984671be84bb684dc1de4fdd4bd3a"
          }
        },
        "3f4dae96945b47b3a7d6bed2aa59d9a8": {
          "model_module": "@jupyter-widgets/controls",
          "model_name": "HTMLModel",
          "model_module_version": "1.5.0",
          "state": {
            "_dom_classes": [],
            "_model_module": "@jupyter-widgets/controls",
            "_model_module_version": "1.5.0",
            "_model_name": "HTMLModel",
            "_view_count": null,
            "_view_module": "@jupyter-widgets/controls",
            "_view_module_version": "1.5.0",
            "_view_name": "HTMLView",
            "description": "",
            "description_tooltip": null,
            "layout": "IPY_MODEL_3bcd74711be6459aaa070a5a355cc61a",
            "placeholder": "​",
            "style": "IPY_MODEL_b96ba9753ecc4a35aab3a9f0102a3f48",
            "value": "vocab.txt: 100%"
          }
        },
        "515986a7e4ca48028cd29abdc5132304": {
          "model_module": "@jupyter-widgets/controls",
          "model_name": "FloatProgressModel",
          "model_module_version": "1.5.0",
          "state": {
            "_dom_classes": [],
            "_model_module": "@jupyter-widgets/controls",
            "_model_module_version": "1.5.0",
            "_model_name": "FloatProgressModel",
            "_view_count": null,
            "_view_module": "@jupyter-widgets/controls",
            "_view_module_version": "1.5.0",
            "_view_name": "ProgressView",
            "bar_style": "success",
            "description": "",
            "description_tooltip": null,
            "layout": "IPY_MODEL_7364021c61734baf80b6d32c218eafe3",
            "max": 231508,
            "min": 0,
            "orientation": "horizontal",
            "style": "IPY_MODEL_8393d255b42e47b0b07f81bfc20b642b",
            "value": 231508
          }
        },
        "325fa747edf74538b08e6593b2251ddb": {
          "model_module": "@jupyter-widgets/controls",
          "model_name": "HTMLModel",
          "model_module_version": "1.5.0",
          "state": {
            "_dom_classes": [],
            "_model_module": "@jupyter-widgets/controls",
            "_model_module_version": "1.5.0",
            "_model_name": "HTMLModel",
            "_view_count": null,
            "_view_module": "@jupyter-widgets/controls",
            "_view_module_version": "1.5.0",
            "_view_name": "HTMLView",
            "description": "",
            "description_tooltip": null,
            "layout": "IPY_MODEL_63b7eb9dceae484398b7bd47b5c76b8e",
            "placeholder": "​",
            "style": "IPY_MODEL_f3a6cbf60dae4212ab09c09590989886",
            "value": " 232k/232k [00:00&lt;00:00, 672kB/s]"
          }
        },
        "160984671be84bb684dc1de4fdd4bd3a": {
          "model_module": "@jupyter-widgets/base",
          "model_name": "LayoutModel",
          "model_module_version": "1.2.0",
          "state": {
            "_model_module": "@jupyter-widgets/base",
            "_model_module_version": "1.2.0",
            "_model_name": "LayoutModel",
            "_view_count": null,
            "_view_module": "@jupyter-widgets/base",
            "_view_module_version": "1.2.0",
            "_view_name": "LayoutView",
            "align_content": null,
            "align_items": null,
            "align_self": null,
            "border": null,
            "bottom": null,
            "display": null,
            "flex": null,
            "flex_flow": null,
            "grid_area": null,
            "grid_auto_columns": null,
            "grid_auto_flow": null,
            "grid_auto_rows": null,
            "grid_column": null,
            "grid_gap": null,
            "grid_row": null,
            "grid_template_areas": null,
            "grid_template_columns": null,
            "grid_template_rows": null,
            "height": null,
            "justify_content": null,
            "justify_items": null,
            "left": null,
            "margin": null,
            "max_height": null,
            "max_width": null,
            "min_height": null,
            "min_width": null,
            "object_fit": null,
            "object_position": null,
            "order": null,
            "overflow": null,
            "overflow_x": null,
            "overflow_y": null,
            "padding": null,
            "right": null,
            "top": null,
            "visibility": null,
            "width": null
          }
        },
        "3bcd74711be6459aaa070a5a355cc61a": {
          "model_module": "@jupyter-widgets/base",
          "model_name": "LayoutModel",
          "model_module_version": "1.2.0",
          "state": {
            "_model_module": "@jupyter-widgets/base",
            "_model_module_version": "1.2.0",
            "_model_name": "LayoutModel",
            "_view_count": null,
            "_view_module": "@jupyter-widgets/base",
            "_view_module_version": "1.2.0",
            "_view_name": "LayoutView",
            "align_content": null,
            "align_items": null,
            "align_self": null,
            "border": null,
            "bottom": null,
            "display": null,
            "flex": null,
            "flex_flow": null,
            "grid_area": null,
            "grid_auto_columns": null,
            "grid_auto_flow": null,
            "grid_auto_rows": null,
            "grid_column": null,
            "grid_gap": null,
            "grid_row": null,
            "grid_template_areas": null,
            "grid_template_columns": null,
            "grid_template_rows": null,
            "height": null,
            "justify_content": null,
            "justify_items": null,
            "left": null,
            "margin": null,
            "max_height": null,
            "max_width": null,
            "min_height": null,
            "min_width": null,
            "object_fit": null,
            "object_position": null,
            "order": null,
            "overflow": null,
            "overflow_x": null,
            "overflow_y": null,
            "padding": null,
            "right": null,
            "top": null,
            "visibility": null,
            "width": null
          }
        },
        "b96ba9753ecc4a35aab3a9f0102a3f48": {
          "model_module": "@jupyter-widgets/controls",
          "model_name": "DescriptionStyleModel",
          "model_module_version": "1.5.0",
          "state": {
            "_model_module": "@jupyter-widgets/controls",
            "_model_module_version": "1.5.0",
            "_model_name": "DescriptionStyleModel",
            "_view_count": null,
            "_view_module": "@jupyter-widgets/base",
            "_view_module_version": "1.2.0",
            "_view_name": "StyleView",
            "description_width": ""
          }
        },
        "7364021c61734baf80b6d32c218eafe3": {
          "model_module": "@jupyter-widgets/base",
          "model_name": "LayoutModel",
          "model_module_version": "1.2.0",
          "state": {
            "_model_module": "@jupyter-widgets/base",
            "_model_module_version": "1.2.0",
            "_model_name": "LayoutModel",
            "_view_count": null,
            "_view_module": "@jupyter-widgets/base",
            "_view_module_version": "1.2.0",
            "_view_name": "LayoutView",
            "align_content": null,
            "align_items": null,
            "align_self": null,
            "border": null,
            "bottom": null,
            "display": null,
            "flex": null,
            "flex_flow": null,
            "grid_area": null,
            "grid_auto_columns": null,
            "grid_auto_flow": null,
            "grid_auto_rows": null,
            "grid_column": null,
            "grid_gap": null,
            "grid_row": null,
            "grid_template_areas": null,
            "grid_template_columns": null,
            "grid_template_rows": null,
            "height": null,
            "justify_content": null,
            "justify_items": null,
            "left": null,
            "margin": null,
            "max_height": null,
            "max_width": null,
            "min_height": null,
            "min_width": null,
            "object_fit": null,
            "object_position": null,
            "order": null,
            "overflow": null,
            "overflow_x": null,
            "overflow_y": null,
            "padding": null,
            "right": null,
            "top": null,
            "visibility": null,
            "width": null
          }
        },
        "8393d255b42e47b0b07f81bfc20b642b": {
          "model_module": "@jupyter-widgets/controls",
          "model_name": "ProgressStyleModel",
          "model_module_version": "1.5.0",
          "state": {
            "_model_module": "@jupyter-widgets/controls",
            "_model_module_version": "1.5.0",
            "_model_name": "ProgressStyleModel",
            "_view_count": null,
            "_view_module": "@jupyter-widgets/base",
            "_view_module_version": "1.2.0",
            "_view_name": "StyleView",
            "bar_color": null,
            "description_width": ""
          }
        },
        "63b7eb9dceae484398b7bd47b5c76b8e": {
          "model_module": "@jupyter-widgets/base",
          "model_name": "LayoutModel",
          "model_module_version": "1.2.0",
          "state": {
            "_model_module": "@jupyter-widgets/base",
            "_model_module_version": "1.2.0",
            "_model_name": "LayoutModel",
            "_view_count": null,
            "_view_module": "@jupyter-widgets/base",
            "_view_module_version": "1.2.0",
            "_view_name": "LayoutView",
            "align_content": null,
            "align_items": null,
            "align_self": null,
            "border": null,
            "bottom": null,
            "display": null,
            "flex": null,
            "flex_flow": null,
            "grid_area": null,
            "grid_auto_columns": null,
            "grid_auto_flow": null,
            "grid_auto_rows": null,
            "grid_column": null,
            "grid_gap": null,
            "grid_row": null,
            "grid_template_areas": null,
            "grid_template_columns": null,
            "grid_template_rows": null,
            "height": null,
            "justify_content": null,
            "justify_items": null,
            "left": null,
            "margin": null,
            "max_height": null,
            "max_width": null,
            "min_height": null,
            "min_width": null,
            "object_fit": null,
            "object_position": null,
            "order": null,
            "overflow": null,
            "overflow_x": null,
            "overflow_y": null,
            "padding": null,
            "right": null,
            "top": null,
            "visibility": null,
            "width": null
          }
        },
        "f3a6cbf60dae4212ab09c09590989886": {
          "model_module": "@jupyter-widgets/controls",
          "model_name": "DescriptionStyleModel",
          "model_module_version": "1.5.0",
          "state": {
            "_model_module": "@jupyter-widgets/controls",
            "_model_module_version": "1.5.0",
            "_model_name": "DescriptionStyleModel",
            "_view_count": null,
            "_view_module": "@jupyter-widgets/base",
            "_view_module_version": "1.2.0",
            "_view_name": "StyleView",
            "description_width": ""
          }
        },
        "ccaed3b2ae3041ddb0e73edef489c506": {
          "model_module": "@jupyter-widgets/controls",
          "model_name": "HBoxModel",
          "model_module_version": "1.5.0",
          "state": {
            "_dom_classes": [],
            "_model_module": "@jupyter-widgets/controls",
            "_model_module_version": "1.5.0",
            "_model_name": "HBoxModel",
            "_view_count": null,
            "_view_module": "@jupyter-widgets/controls",
            "_view_module_version": "1.5.0",
            "_view_name": "HBoxView",
            "box_style": "",
            "children": [
              "IPY_MODEL_91665e38ea2d4ddaba27ed8cf23cf799",
              "IPY_MODEL_a07d4594f1504b19b19bc29688e98c08",
              "IPY_MODEL_d8c85e81b7b0457ca768e6a8f2cc7d91"
            ],
            "layout": "IPY_MODEL_811218ad7c4546f0a6649388f232520e"
          }
        },
        "91665e38ea2d4ddaba27ed8cf23cf799": {
          "model_module": "@jupyter-widgets/controls",
          "model_name": "HTMLModel",
          "model_module_version": "1.5.0",
          "state": {
            "_dom_classes": [],
            "_model_module": "@jupyter-widgets/controls",
            "_model_module_version": "1.5.0",
            "_model_name": "HTMLModel",
            "_view_count": null,
            "_view_module": "@jupyter-widgets/controls",
            "_view_module_version": "1.5.0",
            "_view_name": "HTMLView",
            "description": "",
            "description_tooltip": null,
            "layout": "IPY_MODEL_421e428d30fa425dacdcec088ec6dbe3",
            "placeholder": "​",
            "style": "IPY_MODEL_4121228a841b4a7ba26a8a80b91e1129",
            "value": "tokenizer.json: 100%"
          }
        },
        "a07d4594f1504b19b19bc29688e98c08": {
          "model_module": "@jupyter-widgets/controls",
          "model_name": "FloatProgressModel",
          "model_module_version": "1.5.0",
          "state": {
            "_dom_classes": [],
            "_model_module": "@jupyter-widgets/controls",
            "_model_module_version": "1.5.0",
            "_model_name": "FloatProgressModel",
            "_view_count": null,
            "_view_module": "@jupyter-widgets/controls",
            "_view_module_version": "1.5.0",
            "_view_name": "ProgressView",
            "bar_style": "success",
            "description": "",
            "description_tooltip": null,
            "layout": "IPY_MODEL_a2dd3e1c949842ae902042b0393dd647",
            "max": 466062,
            "min": 0,
            "orientation": "horizontal",
            "style": "IPY_MODEL_8b93464016044f988063b4b6ea555659",
            "value": 466062
          }
        },
        "d8c85e81b7b0457ca768e6a8f2cc7d91": {
          "model_module": "@jupyter-widgets/controls",
          "model_name": "HTMLModel",
          "model_module_version": "1.5.0",
          "state": {
            "_dom_classes": [],
            "_model_module": "@jupyter-widgets/controls",
            "_model_module_version": "1.5.0",
            "_model_name": "HTMLModel",
            "_view_count": null,
            "_view_module": "@jupyter-widgets/controls",
            "_view_module_version": "1.5.0",
            "_view_name": "HTMLView",
            "description": "",
            "description_tooltip": null,
            "layout": "IPY_MODEL_d66af0df03a34c838f0e6c4c3280e8e6",
            "placeholder": "​",
            "style": "IPY_MODEL_ebfbaace3ef041bdac0155d8f388d4a3",
            "value": " 466k/466k [00:00&lt;00:00, 1.35MB/s]"
          }
        },
        "811218ad7c4546f0a6649388f232520e": {
          "model_module": "@jupyter-widgets/base",
          "model_name": "LayoutModel",
          "model_module_version": "1.2.0",
          "state": {
            "_model_module": "@jupyter-widgets/base",
            "_model_module_version": "1.2.0",
            "_model_name": "LayoutModel",
            "_view_count": null,
            "_view_module": "@jupyter-widgets/base",
            "_view_module_version": "1.2.0",
            "_view_name": "LayoutView",
            "align_content": null,
            "align_items": null,
            "align_self": null,
            "border": null,
            "bottom": null,
            "display": null,
            "flex": null,
            "flex_flow": null,
            "grid_area": null,
            "grid_auto_columns": null,
            "grid_auto_flow": null,
            "grid_auto_rows": null,
            "grid_column": null,
            "grid_gap": null,
            "grid_row": null,
            "grid_template_areas": null,
            "grid_template_columns": null,
            "grid_template_rows": null,
            "height": null,
            "justify_content": null,
            "justify_items": null,
            "left": null,
            "margin": null,
            "max_height": null,
            "max_width": null,
            "min_height": null,
            "min_width": null,
            "object_fit": null,
            "object_position": null,
            "order": null,
            "overflow": null,
            "overflow_x": null,
            "overflow_y": null,
            "padding": null,
            "right": null,
            "top": null,
            "visibility": null,
            "width": null
          }
        },
        "421e428d30fa425dacdcec088ec6dbe3": {
          "model_module": "@jupyter-widgets/base",
          "model_name": "LayoutModel",
          "model_module_version": "1.2.0",
          "state": {
            "_model_module": "@jupyter-widgets/base",
            "_model_module_version": "1.2.0",
            "_model_name": "LayoutModel",
            "_view_count": null,
            "_view_module": "@jupyter-widgets/base",
            "_view_module_version": "1.2.0",
            "_view_name": "LayoutView",
            "align_content": null,
            "align_items": null,
            "align_self": null,
            "border": null,
            "bottom": null,
            "display": null,
            "flex": null,
            "flex_flow": null,
            "grid_area": null,
            "grid_auto_columns": null,
            "grid_auto_flow": null,
            "grid_auto_rows": null,
            "grid_column": null,
            "grid_gap": null,
            "grid_row": null,
            "grid_template_areas": null,
            "grid_template_columns": null,
            "grid_template_rows": null,
            "height": null,
            "justify_content": null,
            "justify_items": null,
            "left": null,
            "margin": null,
            "max_height": null,
            "max_width": null,
            "min_height": null,
            "min_width": null,
            "object_fit": null,
            "object_position": null,
            "order": null,
            "overflow": null,
            "overflow_x": null,
            "overflow_y": null,
            "padding": null,
            "right": null,
            "top": null,
            "visibility": null,
            "width": null
          }
        },
        "4121228a841b4a7ba26a8a80b91e1129": {
          "model_module": "@jupyter-widgets/controls",
          "model_name": "DescriptionStyleModel",
          "model_module_version": "1.5.0",
          "state": {
            "_model_module": "@jupyter-widgets/controls",
            "_model_module_version": "1.5.0",
            "_model_name": "DescriptionStyleModel",
            "_view_count": null,
            "_view_module": "@jupyter-widgets/base",
            "_view_module_version": "1.2.0",
            "_view_name": "StyleView",
            "description_width": ""
          }
        },
        "a2dd3e1c949842ae902042b0393dd647": {
          "model_module": "@jupyter-widgets/base",
          "model_name": "LayoutModel",
          "model_module_version": "1.2.0",
          "state": {
            "_model_module": "@jupyter-widgets/base",
            "_model_module_version": "1.2.0",
            "_model_name": "LayoutModel",
            "_view_count": null,
            "_view_module": "@jupyter-widgets/base",
            "_view_module_version": "1.2.0",
            "_view_name": "LayoutView",
            "align_content": null,
            "align_items": null,
            "align_self": null,
            "border": null,
            "bottom": null,
            "display": null,
            "flex": null,
            "flex_flow": null,
            "grid_area": null,
            "grid_auto_columns": null,
            "grid_auto_flow": null,
            "grid_auto_rows": null,
            "grid_column": null,
            "grid_gap": null,
            "grid_row": null,
            "grid_template_areas": null,
            "grid_template_columns": null,
            "grid_template_rows": null,
            "height": null,
            "justify_content": null,
            "justify_items": null,
            "left": null,
            "margin": null,
            "max_height": null,
            "max_width": null,
            "min_height": null,
            "min_width": null,
            "object_fit": null,
            "object_position": null,
            "order": null,
            "overflow": null,
            "overflow_x": null,
            "overflow_y": null,
            "padding": null,
            "right": null,
            "top": null,
            "visibility": null,
            "width": null
          }
        },
        "8b93464016044f988063b4b6ea555659": {
          "model_module": "@jupyter-widgets/controls",
          "model_name": "ProgressStyleModel",
          "model_module_version": "1.5.0",
          "state": {
            "_model_module": "@jupyter-widgets/controls",
            "_model_module_version": "1.5.0",
            "_model_name": "ProgressStyleModel",
            "_view_count": null,
            "_view_module": "@jupyter-widgets/base",
            "_view_module_version": "1.2.0",
            "_view_name": "StyleView",
            "bar_color": null,
            "description_width": ""
          }
        },
        "d66af0df03a34c838f0e6c4c3280e8e6": {
          "model_module": "@jupyter-widgets/base",
          "model_name": "LayoutModel",
          "model_module_version": "1.2.0",
          "state": {
            "_model_module": "@jupyter-widgets/base",
            "_model_module_version": "1.2.0",
            "_model_name": "LayoutModel",
            "_view_count": null,
            "_view_module": "@jupyter-widgets/base",
            "_view_module_version": "1.2.0",
            "_view_name": "LayoutView",
            "align_content": null,
            "align_items": null,
            "align_self": null,
            "border": null,
            "bottom": null,
            "display": null,
            "flex": null,
            "flex_flow": null,
            "grid_area": null,
            "grid_auto_columns": null,
            "grid_auto_flow": null,
            "grid_auto_rows": null,
            "grid_column": null,
            "grid_gap": null,
            "grid_row": null,
            "grid_template_areas": null,
            "grid_template_columns": null,
            "grid_template_rows": null,
            "height": null,
            "justify_content": null,
            "justify_items": null,
            "left": null,
            "margin": null,
            "max_height": null,
            "max_width": null,
            "min_height": null,
            "min_width": null,
            "object_fit": null,
            "object_position": null,
            "order": null,
            "overflow": null,
            "overflow_x": null,
            "overflow_y": null,
            "padding": null,
            "right": null,
            "top": null,
            "visibility": null,
            "width": null
          }
        },
        "ebfbaace3ef041bdac0155d8f388d4a3": {
          "model_module": "@jupyter-widgets/controls",
          "model_name": "DescriptionStyleModel",
          "model_module_version": "1.5.0",
          "state": {
            "_model_module": "@jupyter-widgets/controls",
            "_model_module_version": "1.5.0",
            "_model_name": "DescriptionStyleModel",
            "_view_count": null,
            "_view_module": "@jupyter-widgets/base",
            "_view_module_version": "1.2.0",
            "_view_name": "StyleView",
            "description_width": ""
          }
        },
        "dd9dc0cf739949f3b0dbd102c31d547c": {
          "model_module": "@jupyter-widgets/controls",
          "model_name": "HBoxModel",
          "model_module_version": "1.5.0",
          "state": {
            "_dom_classes": [],
            "_model_module": "@jupyter-widgets/controls",
            "_model_module_version": "1.5.0",
            "_model_name": "HBoxModel",
            "_view_count": null,
            "_view_module": "@jupyter-widgets/controls",
            "_view_module_version": "1.5.0",
            "_view_name": "HBoxView",
            "box_style": "",
            "children": [
              "IPY_MODEL_4dcd820b341747549fef8ffe0d3473ba",
              "IPY_MODEL_62c63adfa1f04819b62babde28c8dab0",
              "IPY_MODEL_81282b737f0447018827f91a3c188d8c"
            ],
            "layout": "IPY_MODEL_1b3b34540b6c4abd84dd9b17f8206fc6"
          }
        },
        "4dcd820b341747549fef8ffe0d3473ba": {
          "model_module": "@jupyter-widgets/controls",
          "model_name": "HTMLModel",
          "model_module_version": "1.5.0",
          "state": {
            "_dom_classes": [],
            "_model_module": "@jupyter-widgets/controls",
            "_model_module_version": "1.5.0",
            "_model_name": "HTMLModel",
            "_view_count": null,
            "_view_module": "@jupyter-widgets/controls",
            "_view_module_version": "1.5.0",
            "_view_name": "HTMLView",
            "description": "",
            "description_tooltip": null,
            "layout": "IPY_MODEL_03c721581cd94795bd535aaebf88dfca",
            "placeholder": "​",
            "style": "IPY_MODEL_f326616f37e54950b8ddb981c31e4ded",
            "value": "config.json: 100%"
          }
        },
        "62c63adfa1f04819b62babde28c8dab0": {
          "model_module": "@jupyter-widgets/controls",
          "model_name": "FloatProgressModel",
          "model_module_version": "1.5.0",
          "state": {
            "_dom_classes": [],
            "_model_module": "@jupyter-widgets/controls",
            "_model_module_version": "1.5.0",
            "_model_name": "FloatProgressModel",
            "_view_count": null,
            "_view_module": "@jupyter-widgets/controls",
            "_view_module_version": "1.5.0",
            "_view_name": "ProgressView",
            "bar_style": "success",
            "description": "",
            "description_tooltip": null,
            "layout": "IPY_MODEL_05f640db26e84dc6bbec47ab3cf5fb09",
            "max": 570,
            "min": 0,
            "orientation": "horizontal",
            "style": "IPY_MODEL_41c8bc1b82f34fb7a42d9a150b45df49",
            "value": 570
          }
        },
        "81282b737f0447018827f91a3c188d8c": {
          "model_module": "@jupyter-widgets/controls",
          "model_name": "HTMLModel",
          "model_module_version": "1.5.0",
          "state": {
            "_dom_classes": [],
            "_model_module": "@jupyter-widgets/controls",
            "_model_module_version": "1.5.0",
            "_model_name": "HTMLModel",
            "_view_count": null,
            "_view_module": "@jupyter-widgets/controls",
            "_view_module_version": "1.5.0",
            "_view_name": "HTMLView",
            "description": "",
            "description_tooltip": null,
            "layout": "IPY_MODEL_fb8e8cb4cec74dad95741440b018a6f4",
            "placeholder": "​",
            "style": "IPY_MODEL_723c4c9dcc9b4432805b8c36a6686d5f",
            "value": " 570/570 [00:00&lt;00:00, 15.1kB/s]"
          }
        },
        "1b3b34540b6c4abd84dd9b17f8206fc6": {
          "model_module": "@jupyter-widgets/base",
          "model_name": "LayoutModel",
          "model_module_version": "1.2.0",
          "state": {
            "_model_module": "@jupyter-widgets/base",
            "_model_module_version": "1.2.0",
            "_model_name": "LayoutModel",
            "_view_count": null,
            "_view_module": "@jupyter-widgets/base",
            "_view_module_version": "1.2.0",
            "_view_name": "LayoutView",
            "align_content": null,
            "align_items": null,
            "align_self": null,
            "border": null,
            "bottom": null,
            "display": null,
            "flex": null,
            "flex_flow": null,
            "grid_area": null,
            "grid_auto_columns": null,
            "grid_auto_flow": null,
            "grid_auto_rows": null,
            "grid_column": null,
            "grid_gap": null,
            "grid_row": null,
            "grid_template_areas": null,
            "grid_template_columns": null,
            "grid_template_rows": null,
            "height": null,
            "justify_content": null,
            "justify_items": null,
            "left": null,
            "margin": null,
            "max_height": null,
            "max_width": null,
            "min_height": null,
            "min_width": null,
            "object_fit": null,
            "object_position": null,
            "order": null,
            "overflow": null,
            "overflow_x": null,
            "overflow_y": null,
            "padding": null,
            "right": null,
            "top": null,
            "visibility": null,
            "width": null
          }
        },
        "03c721581cd94795bd535aaebf88dfca": {
          "model_module": "@jupyter-widgets/base",
          "model_name": "LayoutModel",
          "model_module_version": "1.2.0",
          "state": {
            "_model_module": "@jupyter-widgets/base",
            "_model_module_version": "1.2.0",
            "_model_name": "LayoutModel",
            "_view_count": null,
            "_view_module": "@jupyter-widgets/base",
            "_view_module_version": "1.2.0",
            "_view_name": "LayoutView",
            "align_content": null,
            "align_items": null,
            "align_self": null,
            "border": null,
            "bottom": null,
            "display": null,
            "flex": null,
            "flex_flow": null,
            "grid_area": null,
            "grid_auto_columns": null,
            "grid_auto_flow": null,
            "grid_auto_rows": null,
            "grid_column": null,
            "grid_gap": null,
            "grid_row": null,
            "grid_template_areas": null,
            "grid_template_columns": null,
            "grid_template_rows": null,
            "height": null,
            "justify_content": null,
            "justify_items": null,
            "left": null,
            "margin": null,
            "max_height": null,
            "max_width": null,
            "min_height": null,
            "min_width": null,
            "object_fit": null,
            "object_position": null,
            "order": null,
            "overflow": null,
            "overflow_x": null,
            "overflow_y": null,
            "padding": null,
            "right": null,
            "top": null,
            "visibility": null,
            "width": null
          }
        },
        "f326616f37e54950b8ddb981c31e4ded": {
          "model_module": "@jupyter-widgets/controls",
          "model_name": "DescriptionStyleModel",
          "model_module_version": "1.5.0",
          "state": {
            "_model_module": "@jupyter-widgets/controls",
            "_model_module_version": "1.5.0",
            "_model_name": "DescriptionStyleModel",
            "_view_count": null,
            "_view_module": "@jupyter-widgets/base",
            "_view_module_version": "1.2.0",
            "_view_name": "StyleView",
            "description_width": ""
          }
        },
        "05f640db26e84dc6bbec47ab3cf5fb09": {
          "model_module": "@jupyter-widgets/base",
          "model_name": "LayoutModel",
          "model_module_version": "1.2.0",
          "state": {
            "_model_module": "@jupyter-widgets/base",
            "_model_module_version": "1.2.0",
            "_model_name": "LayoutModel",
            "_view_count": null,
            "_view_module": "@jupyter-widgets/base",
            "_view_module_version": "1.2.0",
            "_view_name": "LayoutView",
            "align_content": null,
            "align_items": null,
            "align_self": null,
            "border": null,
            "bottom": null,
            "display": null,
            "flex": null,
            "flex_flow": null,
            "grid_area": null,
            "grid_auto_columns": null,
            "grid_auto_flow": null,
            "grid_auto_rows": null,
            "grid_column": null,
            "grid_gap": null,
            "grid_row": null,
            "grid_template_areas": null,
            "grid_template_columns": null,
            "grid_template_rows": null,
            "height": null,
            "justify_content": null,
            "justify_items": null,
            "left": null,
            "margin": null,
            "max_height": null,
            "max_width": null,
            "min_height": null,
            "min_width": null,
            "object_fit": null,
            "object_position": null,
            "order": null,
            "overflow": null,
            "overflow_x": null,
            "overflow_y": null,
            "padding": null,
            "right": null,
            "top": null,
            "visibility": null,
            "width": null
          }
        },
        "41c8bc1b82f34fb7a42d9a150b45df49": {
          "model_module": "@jupyter-widgets/controls",
          "model_name": "ProgressStyleModel",
          "model_module_version": "1.5.0",
          "state": {
            "_model_module": "@jupyter-widgets/controls",
            "_model_module_version": "1.5.0",
            "_model_name": "ProgressStyleModel",
            "_view_count": null,
            "_view_module": "@jupyter-widgets/base",
            "_view_module_version": "1.2.0",
            "_view_name": "StyleView",
            "bar_color": null,
            "description_width": ""
          }
        },
        "fb8e8cb4cec74dad95741440b018a6f4": {
          "model_module": "@jupyter-widgets/base",
          "model_name": "LayoutModel",
          "model_module_version": "1.2.0",
          "state": {
            "_model_module": "@jupyter-widgets/base",
            "_model_module_version": "1.2.0",
            "_model_name": "LayoutModel",
            "_view_count": null,
            "_view_module": "@jupyter-widgets/base",
            "_view_module_version": "1.2.0",
            "_view_name": "LayoutView",
            "align_content": null,
            "align_items": null,
            "align_self": null,
            "border": null,
            "bottom": null,
            "display": null,
            "flex": null,
            "flex_flow": null,
            "grid_area": null,
            "grid_auto_columns": null,
            "grid_auto_flow": null,
            "grid_auto_rows": null,
            "grid_column": null,
            "grid_gap": null,
            "grid_row": null,
            "grid_template_areas": null,
            "grid_template_columns": null,
            "grid_template_rows": null,
            "height": null,
            "justify_content": null,
            "justify_items": null,
            "left": null,
            "margin": null,
            "max_height": null,
            "max_width": null,
            "min_height": null,
            "min_width": null,
            "object_fit": null,
            "object_position": null,
            "order": null,
            "overflow": null,
            "overflow_x": null,
            "overflow_y": null,
            "padding": null,
            "right": null,
            "top": null,
            "visibility": null,
            "width": null
          }
        },
        "723c4c9dcc9b4432805b8c36a6686d5f": {
          "model_module": "@jupyter-widgets/controls",
          "model_name": "DescriptionStyleModel",
          "model_module_version": "1.5.0",
          "state": {
            "_model_module": "@jupyter-widgets/controls",
            "_model_module_version": "1.5.0",
            "_model_name": "DescriptionStyleModel",
            "_view_count": null,
            "_view_module": "@jupyter-widgets/base",
            "_view_module_version": "1.2.0",
            "_view_name": "StyleView",
            "description_width": ""
          }
        },
        "3defc48931ee4219ad163cb34be66bae": {
          "model_module": "@jupyter-widgets/controls",
          "model_name": "HBoxModel",
          "model_module_version": "1.5.0",
          "state": {
            "_dom_classes": [],
            "_model_module": "@jupyter-widgets/controls",
            "_model_module_version": "1.5.0",
            "_model_name": "HBoxModel",
            "_view_count": null,
            "_view_module": "@jupyter-widgets/controls",
            "_view_module_version": "1.5.0",
            "_view_name": "HBoxView",
            "box_style": "",
            "children": [
              "IPY_MODEL_c9862c94ce674409a1c76e0364dad81d",
              "IPY_MODEL_bcea97e1856a48f6abc0cd3f6fefefcd",
              "IPY_MODEL_568920e6a7af4edbb806c42e5dcc1d95"
            ],
            "layout": "IPY_MODEL_ad3ab26a36ce4b32a9afe71303e91db2"
          }
        },
        "c9862c94ce674409a1c76e0364dad81d": {
          "model_module": "@jupyter-widgets/controls",
          "model_name": "HTMLModel",
          "model_module_version": "1.5.0",
          "state": {
            "_dom_classes": [],
            "_model_module": "@jupyter-widgets/controls",
            "_model_module_version": "1.5.0",
            "_model_name": "HTMLModel",
            "_view_count": null,
            "_view_module": "@jupyter-widgets/controls",
            "_view_module_version": "1.5.0",
            "_view_name": "HTMLView",
            "description": "",
            "description_tooltip": null,
            "layout": "IPY_MODEL_dc233dc7df6148c58f4afec7fe05ac69",
            "placeholder": "​",
            "style": "IPY_MODEL_e51b4f31b73446fdab1636ff3e121a1f",
            "value": "model.safetensors: 100%"
          }
        },
        "bcea97e1856a48f6abc0cd3f6fefefcd": {
          "model_module": "@jupyter-widgets/controls",
          "model_name": "FloatProgressModel",
          "model_module_version": "1.5.0",
          "state": {
            "_dom_classes": [],
            "_model_module": "@jupyter-widgets/controls",
            "_model_module_version": "1.5.0",
            "_model_name": "FloatProgressModel",
            "_view_count": null,
            "_view_module": "@jupyter-widgets/controls",
            "_view_module_version": "1.5.0",
            "_view_name": "ProgressView",
            "bar_style": "success",
            "description": "",
            "description_tooltip": null,
            "layout": "IPY_MODEL_9fd057886fe242e8b815ed87fdc19038",
            "max": 440449768,
            "min": 0,
            "orientation": "horizontal",
            "style": "IPY_MODEL_786a73f3a96847fd9c359158ea266777",
            "value": 440449768
          }
        },
        "568920e6a7af4edbb806c42e5dcc1d95": {
          "model_module": "@jupyter-widgets/controls",
          "model_name": "HTMLModel",
          "model_module_version": "1.5.0",
          "state": {
            "_dom_classes": [],
            "_model_module": "@jupyter-widgets/controls",
            "_model_module_version": "1.5.0",
            "_model_name": "HTMLModel",
            "_view_count": null,
            "_view_module": "@jupyter-widgets/controls",
            "_view_module_version": "1.5.0",
            "_view_name": "HTMLView",
            "description": "",
            "description_tooltip": null,
            "layout": "IPY_MODEL_4866f22031e243098ac7da27ae36e005",
            "placeholder": "​",
            "style": "IPY_MODEL_2efb176f463b4ca1bcd4aadb75d1de00",
            "value": " 440M/440M [00:06&lt;00:00, 39.6MB/s]"
          }
        },
        "ad3ab26a36ce4b32a9afe71303e91db2": {
          "model_module": "@jupyter-widgets/base",
          "model_name": "LayoutModel",
          "model_module_version": "1.2.0",
          "state": {
            "_model_module": "@jupyter-widgets/base",
            "_model_module_version": "1.2.0",
            "_model_name": "LayoutModel",
            "_view_count": null,
            "_view_module": "@jupyter-widgets/base",
            "_view_module_version": "1.2.0",
            "_view_name": "LayoutView",
            "align_content": null,
            "align_items": null,
            "align_self": null,
            "border": null,
            "bottom": null,
            "display": null,
            "flex": null,
            "flex_flow": null,
            "grid_area": null,
            "grid_auto_columns": null,
            "grid_auto_flow": null,
            "grid_auto_rows": null,
            "grid_column": null,
            "grid_gap": null,
            "grid_row": null,
            "grid_template_areas": null,
            "grid_template_columns": null,
            "grid_template_rows": null,
            "height": null,
            "justify_content": null,
            "justify_items": null,
            "left": null,
            "margin": null,
            "max_height": null,
            "max_width": null,
            "min_height": null,
            "min_width": null,
            "object_fit": null,
            "object_position": null,
            "order": null,
            "overflow": null,
            "overflow_x": null,
            "overflow_y": null,
            "padding": null,
            "right": null,
            "top": null,
            "visibility": null,
            "width": null
          }
        },
        "dc233dc7df6148c58f4afec7fe05ac69": {
          "model_module": "@jupyter-widgets/base",
          "model_name": "LayoutModel",
          "model_module_version": "1.2.0",
          "state": {
            "_model_module": "@jupyter-widgets/base",
            "_model_module_version": "1.2.0",
            "_model_name": "LayoutModel",
            "_view_count": null,
            "_view_module": "@jupyter-widgets/base",
            "_view_module_version": "1.2.0",
            "_view_name": "LayoutView",
            "align_content": null,
            "align_items": null,
            "align_self": null,
            "border": null,
            "bottom": null,
            "display": null,
            "flex": null,
            "flex_flow": null,
            "grid_area": null,
            "grid_auto_columns": null,
            "grid_auto_flow": null,
            "grid_auto_rows": null,
            "grid_column": null,
            "grid_gap": null,
            "grid_row": null,
            "grid_template_areas": null,
            "grid_template_columns": null,
            "grid_template_rows": null,
            "height": null,
            "justify_content": null,
            "justify_items": null,
            "left": null,
            "margin": null,
            "max_height": null,
            "max_width": null,
            "min_height": null,
            "min_width": null,
            "object_fit": null,
            "object_position": null,
            "order": null,
            "overflow": null,
            "overflow_x": null,
            "overflow_y": null,
            "padding": null,
            "right": null,
            "top": null,
            "visibility": null,
            "width": null
          }
        },
        "e51b4f31b73446fdab1636ff3e121a1f": {
          "model_module": "@jupyter-widgets/controls",
          "model_name": "DescriptionStyleModel",
          "model_module_version": "1.5.0",
          "state": {
            "_model_module": "@jupyter-widgets/controls",
            "_model_module_version": "1.5.0",
            "_model_name": "DescriptionStyleModel",
            "_view_count": null,
            "_view_module": "@jupyter-widgets/base",
            "_view_module_version": "1.2.0",
            "_view_name": "StyleView",
            "description_width": ""
          }
        },
        "9fd057886fe242e8b815ed87fdc19038": {
          "model_module": "@jupyter-widgets/base",
          "model_name": "LayoutModel",
          "model_module_version": "1.2.0",
          "state": {
            "_model_module": "@jupyter-widgets/base",
            "_model_module_version": "1.2.0",
            "_model_name": "LayoutModel",
            "_view_count": null,
            "_view_module": "@jupyter-widgets/base",
            "_view_module_version": "1.2.0",
            "_view_name": "LayoutView",
            "align_content": null,
            "align_items": null,
            "align_self": null,
            "border": null,
            "bottom": null,
            "display": null,
            "flex": null,
            "flex_flow": null,
            "grid_area": null,
            "grid_auto_columns": null,
            "grid_auto_flow": null,
            "grid_auto_rows": null,
            "grid_column": null,
            "grid_gap": null,
            "grid_row": null,
            "grid_template_areas": null,
            "grid_template_columns": null,
            "grid_template_rows": null,
            "height": null,
            "justify_content": null,
            "justify_items": null,
            "left": null,
            "margin": null,
            "max_height": null,
            "max_width": null,
            "min_height": null,
            "min_width": null,
            "object_fit": null,
            "object_position": null,
            "order": null,
            "overflow": null,
            "overflow_x": null,
            "overflow_y": null,
            "padding": null,
            "right": null,
            "top": null,
            "visibility": null,
            "width": null
          }
        },
        "786a73f3a96847fd9c359158ea266777": {
          "model_module": "@jupyter-widgets/controls",
          "model_name": "ProgressStyleModel",
          "model_module_version": "1.5.0",
          "state": {
            "_model_module": "@jupyter-widgets/controls",
            "_model_module_version": "1.5.0",
            "_model_name": "ProgressStyleModel",
            "_view_count": null,
            "_view_module": "@jupyter-widgets/base",
            "_view_module_version": "1.2.0",
            "_view_name": "StyleView",
            "bar_color": null,
            "description_width": ""
          }
        },
        "4866f22031e243098ac7da27ae36e005": {
          "model_module": "@jupyter-widgets/base",
          "model_name": "LayoutModel",
          "model_module_version": "1.2.0",
          "state": {
            "_model_module": "@jupyter-widgets/base",
            "_model_module_version": "1.2.0",
            "_model_name": "LayoutModel",
            "_view_count": null,
            "_view_module": "@jupyter-widgets/base",
            "_view_module_version": "1.2.0",
            "_view_name": "LayoutView",
            "align_content": null,
            "align_items": null,
            "align_self": null,
            "border": null,
            "bottom": null,
            "display": null,
            "flex": null,
            "flex_flow": null,
            "grid_area": null,
            "grid_auto_columns": null,
            "grid_auto_flow": null,
            "grid_auto_rows": null,
            "grid_column": null,
            "grid_gap": null,
            "grid_row": null,
            "grid_template_areas": null,
            "grid_template_columns": null,
            "grid_template_rows": null,
            "height": null,
            "justify_content": null,
            "justify_items": null,
            "left": null,
            "margin": null,
            "max_height": null,
            "max_width": null,
            "min_height": null,
            "min_width": null,
            "object_fit": null,
            "object_position": null,
            "order": null,
            "overflow": null,
            "overflow_x": null,
            "overflow_y": null,
            "padding": null,
            "right": null,
            "top": null,
            "visibility": null,
            "width": null
          }
        },
        "2efb176f463b4ca1bcd4aadb75d1de00": {
          "model_module": "@jupyter-widgets/controls",
          "model_name": "DescriptionStyleModel",
          "model_module_version": "1.5.0",
          "state": {
            "_model_module": "@jupyter-widgets/controls",
            "_model_module_version": "1.5.0",
            "_model_name": "DescriptionStyleModel",
            "_view_count": null,
            "_view_module": "@jupyter-widgets/base",
            "_view_module_version": "1.2.0",
            "_view_name": "StyleView",
            "description_width": ""
          }
        }
      }
    }
  },
  "nbformat": 4,
  "nbformat_minor": 0
}