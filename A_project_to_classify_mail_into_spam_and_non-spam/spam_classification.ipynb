{
  "cells": [
    {
      "cell_type": "code",
      "source": [
        "from google.colab import drive\n",
        "drive.mount('/content/drive')"
      ],
      "metadata": {
        "id": "bMTR21l72sku"
      },
      "id": "bMTR21l72sku",
      "execution_count": null,
      "outputs": []
    },
    {
      "cell_type": "code",
      "source": [
        "#https://www.kaggle.com/datasets/uciml/sms-spam-collection-dataset"
      ],
      "metadata": {
        "id": "lEAzvOlX2mM4"
      },
      "id": "lEAzvOlX2mM4",
      "execution_count": null,
      "outputs": []
    },
    {
      "cell_type": "code",
      "execution_count": null,
      "id": "c9ae18f0",
      "metadata": {
        "_cell_guid": "b1076dfc-b9ad-4769-8c92-a6c4dae69d19",
        "_uuid": "8f2839f25d086af736a60e9eeb907d3b93b6e0e5",
        "execution": {
          "iopub.execute_input": "2022-09-14T00:41:31.028276Z",
          "iopub.status.busy": "2022-09-14T00:41:31.027129Z",
          "iopub.status.idle": "2022-09-14T00:41:31.048523Z",
          "shell.execute_reply": "2022-09-14T00:41:31.047354Z"
        },
        "papermill": {
          "duration": 0.036653,
          "end_time": "2022-09-14T00:41:31.051148",
          "exception": false,
          "start_time": "2022-09-14T00:41:31.014495",
          "status": "completed"
        },
        "tags": [],
        "id": "c9ae18f0"
      },
      "outputs": [],
      "source": [
        "import pandas as pd\n",
        "\n",
        "df = pd.read_csv('/content/drive/MyDrive/Colab Notebooks/Hsoub/L8/emails.csv',sep=';' )"
      ]
    },
    {
      "cell_type": "code",
      "execution_count": null,
      "id": "4f098cb6",
      "metadata": {
        "execution": {
          "iopub.execute_input": "2022-09-14T00:41:31.299105Z",
          "iopub.status.busy": "2022-09-14T00:41:31.298371Z",
          "iopub.status.idle": "2022-09-14T00:41:32.956921Z",
          "shell.execute_reply": "2022-09-14T00:41:32.955566Z"
        },
        "papermill": {
          "duration": 1.672649,
          "end_time": "2022-09-14T00:41:32.959878",
          "exception": false,
          "start_time": "2022-09-14T00:41:31.287229",
          "status": "completed"
        },
        "tags": [],
        "colab": {
          "base_uri": "https://localhost:8080/"
        },
        "id": "4f098cb6",
        "outputId": "8c125770-8de8-4164-f822-33ab8d877428"
      },
      "outputs": [
        {
          "output_type": "stream",
          "name": "stderr",
          "text": [
            "[nltk_data] Downloading package punkt to /root/nltk_data...\n",
            "[nltk_data]   Package punkt is already up-to-date!\n",
            "[nltk_data] Downloading package stopwords to /root/nltk_data...\n",
            "[nltk_data]   Package stopwords is already up-to-date!\n"
          ]
        },
        {
          "output_type": "execute_result",
          "data": {
            "text/plain": [
              "True"
            ]
          },
          "metadata": {},
          "execution_count": 29
        }
      ],
      "source": [
        "import nltk\n",
        "\n",
        "from nltk.tokenize import word_tokenize\n",
        "\n",
        "from nltk.corpus import stopwords\n",
        "\n",
        "from nltk.stem import PorterStemmer\n",
        "\n",
        "import string\n",
        "\n",
        "import re\n",
        "\n",
        "nltk.download('punkt')\n",
        "\n",
        "nltk.download('stopwords')"
      ]
    },
    {
      "cell_type": "code",
      "execution_count": null,
      "id": "b04352dd",
      "metadata": {
        "id": "b04352dd"
      },
      "outputs": [],
      "source": [
        "def preprocess_text(text):\n",
        "\n",
        "\n",
        "    tokens = word_tokenize(text.lower())\n",
        "\n",
        "\n",
        "    tokens = [token for token in tokens if token not in string.punctuation]\n",
        "\n",
        "\n",
        "    stop_words = stopwords.words('english')\n",
        "    tokens = [token for token in tokens if token not in stop_words]\n",
        "\n",
        "\n",
        "    stemmer = PorterStemmer()\n",
        "    tokens = [stemmer.stem(token) for token in tokens]\n",
        "\n",
        "    preprocessed_text = ' '.join(tokens)\n",
        "\n",
        "    preprocessed_text = re.sub(r'http\\S+|www\\S+', '', preprocessed_text)\n",
        "\n",
        "    preprocessed_text = re.sub(r'\\d+', '', preprocessed_text)\n",
        "    return preprocessed_text"
      ]
    },
    {
      "cell_type": "code",
      "execution_count": null,
      "id": "97bb242d",
      "metadata": {
        "colab": {
          "base_uri": "https://localhost:8080/",
          "height": 423
        },
        "id": "97bb242d",
        "outputId": "15d24b89-75bf-42cf-d309-417db7870b67"
      },
      "outputs": [
        {
          "output_type": "execute_result",
          "data": {
            "text/plain": [
              "      Spam                                            Message  \\\n",
              "0        0                                Please call me at 8   \n",
              "1        1                    Free money is available for you   \n",
              "2        0  I study he studies they are students I studied...   \n",
              "3        1            I am working at office now to 9 evening   \n",
              "4        0  U dun say so early hor... U c already then say...   \n",
              "...    ...                                                ...   \n",
              "5222     0              It‘s reassuring, in this crazy world.   \n",
              "5223     0                   Oh... Okie lor...We go on sat...   \n",
              "5224     1  You are awarded a SiPix Digital Camera! call 0...   \n",
              "5225     0  Hey chief, can you give me a bell when you get...   \n",
              "5226     1  ASKED 3MOBILE IF 0870 CHATLINES INCLU IN FREE ...   \n",
              "\n",
              "                                      processed_Message  \n",
              "0                                           pleas call   \n",
              "1                                      free money avail  \n",
              "2                   studi studi student studi yesterday  \n",
              "3                                      work offic  even  \n",
              "4           u dun say earli hor ... u c alreadi say ...  \n",
              "...                                                 ...  \n",
              "5222                              ‘ reassur crazi world  \n",
              "5223                      oh ... oki lor ... go sat ...  \n",
              "5224  award sipix digit camera call  landlin deliver...  \n",
              "5225  hey chief give bell get need talk royal visit ...  \n",
              "5226  ask mobil  chatlin inclu free min india cust s...  \n",
              "\n",
              "[5227 rows x 3 columns]"
            ],
            "text/html": [
              "\n",
              "  <div id=\"df-875bad2b-8519-4e57-8a1b-bb1ef0ef0b59\" class=\"colab-df-container\">\n",
              "    <div>\n",
              "<style scoped>\n",
              "    .dataframe tbody tr th:only-of-type {\n",
              "        vertical-align: middle;\n",
              "    }\n",
              "\n",
              "    .dataframe tbody tr th {\n",
              "        vertical-align: top;\n",
              "    }\n",
              "\n",
              "    .dataframe thead th {\n",
              "        text-align: right;\n",
              "    }\n",
              "</style>\n",
              "<table border=\"1\" class=\"dataframe\">\n",
              "  <thead>\n",
              "    <tr style=\"text-align: right;\">\n",
              "      <th></th>\n",
              "      <th>Spam</th>\n",
              "      <th>Message</th>\n",
              "      <th>processed_Message</th>\n",
              "    </tr>\n",
              "  </thead>\n",
              "  <tbody>\n",
              "    <tr>\n",
              "      <th>0</th>\n",
              "      <td>0</td>\n",
              "      <td>Please call me at 8</td>\n",
              "      <td>pleas call</td>\n",
              "    </tr>\n",
              "    <tr>\n",
              "      <th>1</th>\n",
              "      <td>1</td>\n",
              "      <td>Free money is available for you</td>\n",
              "      <td>free money avail</td>\n",
              "    </tr>\n",
              "    <tr>\n",
              "      <th>2</th>\n",
              "      <td>0</td>\n",
              "      <td>I study he studies they are students I studied...</td>\n",
              "      <td>studi studi student studi yesterday</td>\n",
              "    </tr>\n",
              "    <tr>\n",
              "      <th>3</th>\n",
              "      <td>1</td>\n",
              "      <td>I am working at office now to 9 evening</td>\n",
              "      <td>work offic  even</td>\n",
              "    </tr>\n",
              "    <tr>\n",
              "      <th>4</th>\n",
              "      <td>0</td>\n",
              "      <td>U dun say so early hor... U c already then say...</td>\n",
              "      <td>u dun say earli hor ... u c alreadi say ...</td>\n",
              "    </tr>\n",
              "    <tr>\n",
              "      <th>...</th>\n",
              "      <td>...</td>\n",
              "      <td>...</td>\n",
              "      <td>...</td>\n",
              "    </tr>\n",
              "    <tr>\n",
              "      <th>5222</th>\n",
              "      <td>0</td>\n",
              "      <td>It‘s reassuring, in this crazy world.</td>\n",
              "      <td>‘ reassur crazi world</td>\n",
              "    </tr>\n",
              "    <tr>\n",
              "      <th>5223</th>\n",
              "      <td>0</td>\n",
              "      <td>Oh... Okie lor...We go on sat...</td>\n",
              "      <td>oh ... oki lor ... go sat ...</td>\n",
              "    </tr>\n",
              "    <tr>\n",
              "      <th>5224</th>\n",
              "      <td>1</td>\n",
              "      <td>You are awarded a SiPix Digital Camera! call 0...</td>\n",
              "      <td>award sipix digit camera call  landlin deliver...</td>\n",
              "    </tr>\n",
              "    <tr>\n",
              "      <th>5225</th>\n",
              "      <td>0</td>\n",
              "      <td>Hey chief, can you give me a bell when you get...</td>\n",
              "      <td>hey chief give bell get need talk royal visit ...</td>\n",
              "    </tr>\n",
              "    <tr>\n",
              "      <th>5226</th>\n",
              "      <td>1</td>\n",
              "      <td>ASKED 3MOBILE IF 0870 CHATLINES INCLU IN FREE ...</td>\n",
              "      <td>ask mobil  chatlin inclu free min india cust s...</td>\n",
              "    </tr>\n",
              "  </tbody>\n",
              "</table>\n",
              "<p>5227 rows × 3 columns</p>\n",
              "</div>\n",
              "    <div class=\"colab-df-buttons\">\n",
              "\n",
              "  <div class=\"colab-df-container\">\n",
              "    <button class=\"colab-df-convert\" onclick=\"convertToInteractive('df-875bad2b-8519-4e57-8a1b-bb1ef0ef0b59')\"\n",
              "            title=\"Convert this dataframe to an interactive table.\"\n",
              "            style=\"display:none;\">\n",
              "\n",
              "  <svg xmlns=\"http://www.w3.org/2000/svg\" height=\"24px\" viewBox=\"0 -960 960 960\">\n",
              "    <path d=\"M120-120v-720h720v720H120Zm60-500h600v-160H180v160Zm220 220h160v-160H400v160Zm0 220h160v-160H400v160ZM180-400h160v-160H180v160Zm440 0h160v-160H620v160ZM180-180h160v-160H180v160Zm440 0h160v-160H620v160Z\"/>\n",
              "  </svg>\n",
              "    </button>\n",
              "\n",
              "  <style>\n",
              "    .colab-df-container {\n",
              "      display:flex;\n",
              "      gap: 12px;\n",
              "    }\n",
              "\n",
              "    .colab-df-convert {\n",
              "      background-color: #E8F0FE;\n",
              "      border: none;\n",
              "      border-radius: 50%;\n",
              "      cursor: pointer;\n",
              "      display: none;\n",
              "      fill: #1967D2;\n",
              "      height: 32px;\n",
              "      padding: 0 0 0 0;\n",
              "      width: 32px;\n",
              "    }\n",
              "\n",
              "    .colab-df-convert:hover {\n",
              "      background-color: #E2EBFA;\n",
              "      box-shadow: 0px 1px 2px rgba(60, 64, 67, 0.3), 0px 1px 3px 1px rgba(60, 64, 67, 0.15);\n",
              "      fill: #174EA6;\n",
              "    }\n",
              "\n",
              "    .colab-df-buttons div {\n",
              "      margin-bottom: 4px;\n",
              "    }\n",
              "\n",
              "    [theme=dark] .colab-df-convert {\n",
              "      background-color: #3B4455;\n",
              "      fill: #D2E3FC;\n",
              "    }\n",
              "\n",
              "    [theme=dark] .colab-df-convert:hover {\n",
              "      background-color: #434B5C;\n",
              "      box-shadow: 0px 1px 3px 1px rgba(0, 0, 0, 0.15);\n",
              "      filter: drop-shadow(0px 1px 2px rgba(0, 0, 0, 0.3));\n",
              "      fill: #FFFFFF;\n",
              "    }\n",
              "  </style>\n",
              "\n",
              "    <script>\n",
              "      const buttonEl =\n",
              "        document.querySelector('#df-875bad2b-8519-4e57-8a1b-bb1ef0ef0b59 button.colab-df-convert');\n",
              "      buttonEl.style.display =\n",
              "        google.colab.kernel.accessAllowed ? 'block' : 'none';\n",
              "\n",
              "      async function convertToInteractive(key) {\n",
              "        const element = document.querySelector('#df-875bad2b-8519-4e57-8a1b-bb1ef0ef0b59');\n",
              "        const dataTable =\n",
              "          await google.colab.kernel.invokeFunction('convertToInteractive',\n",
              "                                                    [key], {});\n",
              "        if (!dataTable) return;\n",
              "\n",
              "        const docLinkHtml = 'Like what you see? Visit the ' +\n",
              "          '<a target=\"_blank\" href=https://colab.research.google.com/notebooks/data_table.ipynb>data table notebook</a>'\n",
              "          + ' to learn more about interactive tables.';\n",
              "        element.innerHTML = '';\n",
              "        dataTable['output_type'] = 'display_data';\n",
              "        await google.colab.output.renderOutput(dataTable, element);\n",
              "        const docLink = document.createElement('div');\n",
              "        docLink.innerHTML = docLinkHtml;\n",
              "        element.appendChild(docLink);\n",
              "      }\n",
              "    </script>\n",
              "  </div>\n",
              "\n",
              "\n",
              "<div id=\"df-9e2e4853-faa4-439e-85bc-fa368cd7475d\">\n",
              "  <button class=\"colab-df-quickchart\" onclick=\"quickchart('df-9e2e4853-faa4-439e-85bc-fa368cd7475d')\"\n",
              "            title=\"Suggest charts\"\n",
              "            style=\"display:none;\">\n",
              "\n",
              "<svg xmlns=\"http://www.w3.org/2000/svg\" height=\"24px\"viewBox=\"0 0 24 24\"\n",
              "     width=\"24px\">\n",
              "    <g>\n",
              "        <path d=\"M19 3H5c-1.1 0-2 .9-2 2v14c0 1.1.9 2 2 2h14c1.1 0 2-.9 2-2V5c0-1.1-.9-2-2-2zM9 17H7v-7h2v7zm4 0h-2V7h2v10zm4 0h-2v-4h2v4z\"/>\n",
              "    </g>\n",
              "</svg>\n",
              "  </button>\n",
              "\n",
              "<style>\n",
              "  .colab-df-quickchart {\n",
              "      --bg-color: #E8F0FE;\n",
              "      --fill-color: #1967D2;\n",
              "      --hover-bg-color: #E2EBFA;\n",
              "      --hover-fill-color: #174EA6;\n",
              "      --disabled-fill-color: #AAA;\n",
              "      --disabled-bg-color: #DDD;\n",
              "  }\n",
              "\n",
              "  [theme=dark] .colab-df-quickchart {\n",
              "      --bg-color: #3B4455;\n",
              "      --fill-color: #D2E3FC;\n",
              "      --hover-bg-color: #434B5C;\n",
              "      --hover-fill-color: #FFFFFF;\n",
              "      --disabled-bg-color: #3B4455;\n",
              "      --disabled-fill-color: #666;\n",
              "  }\n",
              "\n",
              "  .colab-df-quickchart {\n",
              "    background-color: var(--bg-color);\n",
              "    border: none;\n",
              "    border-radius: 50%;\n",
              "    cursor: pointer;\n",
              "    display: none;\n",
              "    fill: var(--fill-color);\n",
              "    height: 32px;\n",
              "    padding: 0;\n",
              "    width: 32px;\n",
              "  }\n",
              "\n",
              "  .colab-df-quickchart:hover {\n",
              "    background-color: var(--hover-bg-color);\n",
              "    box-shadow: 0 1px 2px rgba(60, 64, 67, 0.3), 0 1px 3px 1px rgba(60, 64, 67, 0.15);\n",
              "    fill: var(--button-hover-fill-color);\n",
              "  }\n",
              "\n",
              "  .colab-df-quickchart-complete:disabled,\n",
              "  .colab-df-quickchart-complete:disabled:hover {\n",
              "    background-color: var(--disabled-bg-color);\n",
              "    fill: var(--disabled-fill-color);\n",
              "    box-shadow: none;\n",
              "  }\n",
              "\n",
              "  .colab-df-spinner {\n",
              "    border: 2px solid var(--fill-color);\n",
              "    border-color: transparent;\n",
              "    border-bottom-color: var(--fill-color);\n",
              "    animation:\n",
              "      spin 1s steps(1) infinite;\n",
              "  }\n",
              "\n",
              "  @keyframes spin {\n",
              "    0% {\n",
              "      border-color: transparent;\n",
              "      border-bottom-color: var(--fill-color);\n",
              "      border-left-color: var(--fill-color);\n",
              "    }\n",
              "    20% {\n",
              "      border-color: transparent;\n",
              "      border-left-color: var(--fill-color);\n",
              "      border-top-color: var(--fill-color);\n",
              "    }\n",
              "    30% {\n",
              "      border-color: transparent;\n",
              "      border-left-color: var(--fill-color);\n",
              "      border-top-color: var(--fill-color);\n",
              "      border-right-color: var(--fill-color);\n",
              "    }\n",
              "    40% {\n",
              "      border-color: transparent;\n",
              "      border-right-color: var(--fill-color);\n",
              "      border-top-color: var(--fill-color);\n",
              "    }\n",
              "    60% {\n",
              "      border-color: transparent;\n",
              "      border-right-color: var(--fill-color);\n",
              "    }\n",
              "    80% {\n",
              "      border-color: transparent;\n",
              "      border-right-color: var(--fill-color);\n",
              "      border-bottom-color: var(--fill-color);\n",
              "    }\n",
              "    90% {\n",
              "      border-color: transparent;\n",
              "      border-bottom-color: var(--fill-color);\n",
              "    }\n",
              "  }\n",
              "</style>\n",
              "\n",
              "  <script>\n",
              "    async function quickchart(key) {\n",
              "      const quickchartButtonEl =\n",
              "        document.querySelector('#' + key + ' button');\n",
              "      quickchartButtonEl.disabled = true;  // To prevent multiple clicks.\n",
              "      quickchartButtonEl.classList.add('colab-df-spinner');\n",
              "      try {\n",
              "        const charts = await google.colab.kernel.invokeFunction(\n",
              "            'suggestCharts', [key], {});\n",
              "      } catch (error) {\n",
              "        console.error('Error during call to suggestCharts:', error);\n",
              "      }\n",
              "      quickchartButtonEl.classList.remove('colab-df-spinner');\n",
              "      quickchartButtonEl.classList.add('colab-df-quickchart-complete');\n",
              "    }\n",
              "    (() => {\n",
              "      let quickchartButtonEl =\n",
              "        document.querySelector('#df-9e2e4853-faa4-439e-85bc-fa368cd7475d button');\n",
              "      quickchartButtonEl.style.display =\n",
              "        google.colab.kernel.accessAllowed ? 'block' : 'none';\n",
              "    })();\n",
              "  </script>\n",
              "</div>\n",
              "\n",
              "  <div id=\"id_cbbb4bde-e948-4555-b7e8-f6d53d3f376a\">\n",
              "    <style>\n",
              "      .colab-df-generate {\n",
              "        background-color: #E8F0FE;\n",
              "        border: none;\n",
              "        border-radius: 50%;\n",
              "        cursor: pointer;\n",
              "        display: none;\n",
              "        fill: #1967D2;\n",
              "        height: 32px;\n",
              "        padding: 0 0 0 0;\n",
              "        width: 32px;\n",
              "      }\n",
              "\n",
              "      .colab-df-generate:hover {\n",
              "        background-color: #E2EBFA;\n",
              "        box-shadow: 0px 1px 2px rgba(60, 64, 67, 0.3), 0px 1px 3px 1px rgba(60, 64, 67, 0.15);\n",
              "        fill: #174EA6;\n",
              "      }\n",
              "\n",
              "      [theme=dark] .colab-df-generate {\n",
              "        background-color: #3B4455;\n",
              "        fill: #D2E3FC;\n",
              "      }\n",
              "\n",
              "      [theme=dark] .colab-df-generate:hover {\n",
              "        background-color: #434B5C;\n",
              "        box-shadow: 0px 1px 3px 1px rgba(0, 0, 0, 0.15);\n",
              "        filter: drop-shadow(0px 1px 2px rgba(0, 0, 0, 0.3));\n",
              "        fill: #FFFFFF;\n",
              "      }\n",
              "    </style>\n",
              "    <button class=\"colab-df-generate\" onclick=\"generateWithVariable('df')\"\n",
              "            title=\"Generate code using this dataframe.\"\n",
              "            style=\"display:none;\">\n",
              "\n",
              "  <svg xmlns=\"http://www.w3.org/2000/svg\" height=\"24px\"viewBox=\"0 0 24 24\"\n",
              "       width=\"24px\">\n",
              "    <path d=\"M7,19H8.4L18.45,9,17,7.55,7,17.6ZM5,21V16.75L18.45,3.32a2,2,0,0,1,2.83,0l1.4,1.43a1.91,1.91,0,0,1,.58,1.4,1.91,1.91,0,0,1-.58,1.4L9.25,21ZM18.45,9,17,7.55Zm-12,3A5.31,5.31,0,0,0,4.9,8.1,5.31,5.31,0,0,0,1,6.5,5.31,5.31,0,0,0,4.9,4.9,5.31,5.31,0,0,0,6.5,1,5.31,5.31,0,0,0,8.1,4.9,5.31,5.31,0,0,0,12,6.5,5.46,5.46,0,0,0,6.5,12Z\"/>\n",
              "  </svg>\n",
              "    </button>\n",
              "    <script>\n",
              "      (() => {\n",
              "      const buttonEl =\n",
              "        document.querySelector('#id_cbbb4bde-e948-4555-b7e8-f6d53d3f376a button.colab-df-generate');\n",
              "      buttonEl.style.display =\n",
              "        google.colab.kernel.accessAllowed ? 'block' : 'none';\n",
              "\n",
              "      buttonEl.onclick = () => {\n",
              "        google.colab.notebook.generateWithVariable('df');\n",
              "      }\n",
              "      })();\n",
              "    </script>\n",
              "  </div>\n",
              "\n",
              "    </div>\n",
              "  </div>\n"
            ],
            "application/vnd.google.colaboratory.intrinsic+json": {
              "type": "dataframe",
              "variable_name": "df",
              "summary": "{\n  \"name\": \"df\",\n  \"rows\": 5227,\n  \"fields\": [\n    {\n      \"column\": \"Spam\",\n      \"properties\": {\n        \"dtype\": \"number\",\n        \"std\": 0,\n        \"min\": 0,\n        \"max\": 1,\n        \"num_unique_values\": 2,\n        \"samples\": [\n          1,\n          0\n        ],\n        \"semantic_type\": \"\",\n        \"description\": \"\"\n      }\n    },\n    {\n      \"column\": \"Message\",\n      \"properties\": {\n        \"dtype\": \"string\",\n        \"num_unique_values\": 5214,\n        \"samples\": [\n          \"What's a feathery bowa? Is that something guys have that I don't know about?\",\n          \"I'm used to it. I just hope my agents don't drop me since i've only booked a few things this year. This whole me in boston, them in nyc was an experiment.\"\n        ],\n        \"semantic_type\": \"\",\n        \"description\": \"\"\n      }\n    },\n    {\n      \"column\": \"processed_Message\",\n      \"properties\": {\n        \"dtype\": \"string\",\n        \"num_unique_values\": 5148,\n        \"samples\": [\n          \"ok come ur home half hour\",\n          \"jordan got vote last nite\"\n        ],\n        \"semantic_type\": \"\",\n        \"description\": \"\"\n      }\n    }\n  ]\n}"
            }
          },
          "metadata": {},
          "execution_count": 31
        }
      ],
      "source": [
        "df['processed_Message']=df['Message'].apply(preprocess_text)\n",
        "df"
      ]
    },
    {
      "cell_type": "code",
      "execution_count": null,
      "id": "ad3901f0",
      "metadata": {
        "colab": {
          "base_uri": "https://localhost:8080/"
        },
        "id": "ad3901f0",
        "outputId": "857ac4b3-9716-4699-97a5-72b84eb29129"
      },
      "outputs": [
        {
          "output_type": "execute_result",
          "data": {
            "text/plain": [
              "Spam                 675\n",
              "Message              675\n",
              "processed_Message    675\n",
              "dtype: int64"
            ]
          },
          "metadata": {},
          "execution_count": 32
        }
      ],
      "source": [
        "df[df['Spam'] == 1].count()"
      ]
    },
    {
      "cell_type": "code",
      "execution_count": null,
      "id": "e402d397",
      "metadata": {
        "id": "e402d397"
      },
      "outputs": [],
      "source": [
        "spam_df = df[df['Spam'] == 1]\n",
        "non_spam_df = df[df['Spam'] == 0]\n",
        "\n",
        "max_class_count = len(non_spam_df)\n",
        "\n",
        "spam_resampled = spam_df.sample(n=max_class_count, replace=True, random_state=42)\n",
        "\n",
        "balanced_df = pd.concat([non_spam_df, spam_resampled])\n",
        "\n",
        "balanced_df = balanced_df.sample(frac=1, random_state=42).reset_index(drop=True)"
      ]
    },
    {
      "cell_type": "markdown",
      "id": "abdaa75d",
      "metadata": {
        "papermill": {
          "duration": 0.009902,
          "end_time": "2022-09-14T00:41:33.068212",
          "exception": false,
          "start_time": "2022-09-14T00:41:33.058310",
          "status": "completed"
        },
        "tags": [],
        "id": "abdaa75d"
      },
      "source": [
        "#"
      ]
    },
    {
      "cell_type": "code",
      "execution_count": null,
      "id": "1803756a",
      "metadata": {
        "execution": {
          "iopub.execute_input": "2022-09-14T00:41:49.561925Z",
          "iopub.status.busy": "2022-09-14T00:41:49.560961Z",
          "iopub.status.idle": "2022-09-14T00:41:49.565881Z",
          "shell.execute_reply": "2022-09-14T00:41:49.564803Z"
        },
        "papermill": {
          "duration": 0.018446,
          "end_time": "2022-09-14T00:41:49.568298",
          "exception": false,
          "start_time": "2022-09-14T00:41:49.549852",
          "status": "completed"
        },
        "tags": [],
        "id": "1803756a"
      },
      "outputs": [],
      "source": [
        "from sklearn.feature_extraction.text import TfidfVectorizer\n",
        "corpus=balanced_df['processed_Message']\n",
        "max_features=100\n",
        "\n",
        "tfidf_vectorizer = TfidfVectorizer(max_features=max_features)\n",
        "tfidf_vectors = tfidf_vectorizer.fit_transform(corpus)"
      ]
    },
    {
      "cell_type": "code",
      "execution_count": null,
      "id": "6d2ecbc7",
      "metadata": {
        "id": "6d2ecbc7"
      },
      "outputs": [],
      "source": [
        "from sklearn.model_selection import train_test_split\n",
        "\n",
        "X = tfidf_vectors\n",
        "y = balanced_df['Spam']\n",
        "\n",
        "X = X.toarray()\n",
        "\n",
        "X_train, X_test, y_train, y_test = train_test_split(X, y, random_state=42)\n"
      ]
    },
    {
      "cell_type": "code",
      "execution_count": null,
      "id": "31f73862",
      "metadata": {
        "colab": {
          "base_uri": "https://localhost:8080/"
        },
        "id": "31f73862",
        "outputId": "9d9b099b-8165-4cac-8b7d-4596a6468030"
      },
      "outputs": [
        {
          "output_type": "stream",
          "name": "stdout",
          "text": [
            "Epoch 1/10\n",
            "214/214 [==============================] - 1s 3ms/step - loss: 0.3721 - accuracy: 0.8877\n",
            "Epoch 2/10\n",
            "214/214 [==============================] - 1s 3ms/step - loss: 0.1581 - accuracy: 0.9398\n",
            "Epoch 3/10\n",
            "214/214 [==============================] - 1s 3ms/step - loss: 0.1345 - accuracy: 0.9530\n",
            "Epoch 4/10\n",
            "214/214 [==============================] - 1s 3ms/step - loss: 0.1187 - accuracy: 0.9593\n",
            "Epoch 5/10\n",
            "214/214 [==============================] - 1s 3ms/step - loss: 0.1067 - accuracy: 0.9634\n",
            "Epoch 6/10\n",
            "214/214 [==============================] - 1s 3ms/step - loss: 0.0959 - accuracy: 0.9684\n",
            "Epoch 7/10\n",
            "214/214 [==============================] - 1s 3ms/step - loss: 0.0879 - accuracy: 0.9701\n",
            "Epoch 8/10\n",
            "214/214 [==============================] - 1s 4ms/step - loss: 0.0814 - accuracy: 0.9731\n",
            "Epoch 9/10\n",
            "214/214 [==============================] - 0s 2ms/step - loss: 0.0769 - accuracy: 0.9750\n",
            "Epoch 10/10\n",
            "214/214 [==============================] - 0s 2ms/step - loss: 0.0734 - accuracy: 0.9755\n"
          ]
        },
        {
          "output_type": "execute_result",
          "data": {
            "text/plain": [
              "<keras.src.callbacks.History at 0x7f09dac3caf0>"
            ]
          },
          "metadata": {},
          "execution_count": 36
        }
      ],
      "source": [
        "from sklearn.metrics import accuracy_score\n",
        "from keras.models import Sequential\n",
        "from keras.layers import Dense\n",
        "\n",
        "model = Sequential()\n",
        "model.add(Dense(64, input_dim=X_train.shape[1], activation='relu'))\n",
        "model.add(Dense(32, activation='relu'))\n",
        "model.add(Dense(1, activation='sigmoid'))\n",
        "\n",
        "model.compile(loss='binary_crossentropy', optimizer='adam', metrics=['accuracy'])\n",
        "\n",
        "model.fit(X_train, y_train, epochs=10, batch_size=32)\n"
      ]
    },
    {
      "cell_type": "code",
      "execution_count": null,
      "id": "153603bb",
      "metadata": {
        "colab": {
          "base_uri": "https://localhost:8080/"
        },
        "id": "153603bb",
        "outputId": "161025ac-0c3f-41fc-b37c-0e4f728d9df5"
      },
      "outputs": [
        {
          "output_type": "stream",
          "name": "stdout",
          "text": [
            "72/72 [==============================] - 0s 2ms/step\n",
            "Accuracy: 96.49\n"
          ]
        }
      ],
      "source": [
        "import numpy as np\n",
        "y_pred_prob = model.predict(X_test)\n",
        "y_pred = np.round(y_pred_prob)\n",
        "\n",
        "accuracy = accuracy_score(y_test, y_pred)\n",
        "print(\"Accuracy:\", round(accuracy*100,2))"
      ]
    },
    {
      "cell_type": "code",
      "execution_count": null,
      "id": "479b4c9c",
      "metadata": {
        "colab": {
          "base_uri": "https://localhost:8080/"
        },
        "id": "479b4c9c",
        "outputId": "ff34d999-b361-4659-c97c-c9d445282a81"
      },
      "outputs": [
        {
          "output_type": "stream",
          "name": "stdout",
          "text": [
            "1/1 [==============================] - 0s 45ms/step\n",
            "Spam\n"
          ]
        }
      ],
      "source": [
        "message=\"call to get free prize one million dollars\"\n",
        "\n",
        "processed_message=preprocess_text(message)\n",
        "vector=tfidf_vectorizer.transform([processed_message])\n",
        "vector_dense=vector.toarray()\n",
        "\n",
        "y_pred_prob = model.predict(vector_dense)\n",
        "\n",
        "y_pred = np.round(y_pred_prob)\n",
        "if y_pred>0.5:\n",
        "    print(\"Spam\")\n",
        "else:\n",
        "    print(\"Not Spam\")"
      ]
    }
  ],
  "metadata": {
    "kernelspec": {
      "display_name": "Python 3",
      "language": "python",
      "name": "python3"
    },
    "language_info": {
      "codemirror_mode": {
        "name": "ipython",
        "version": 3
      },
      "file_extension": ".py",
      "mimetype": "text/x-python",
      "name": "python",
      "nbconvert_exporter": "python",
      "pygments_lexer": "ipython3",
      "version": "3.11.3"
    },
    "papermill": {
      "default_parameters": {},
      "duration": 30.452716,
      "end_time": "2022-09-14T00:41:51.636479",
      "environment_variables": {},
      "exception": null,
      "input_path": "__notebook__.ipynb",
      "output_path": "__notebook__.ipynb",
      "parameters": {},
      "start_time": "2022-09-14T00:41:21.183763",
      "version": "2.3.4"
    },
    "vscode": {
      "interpreter": {
        "hash": "570feb405e2e27c949193ac68f46852414290d515b0ba6e5d90d076ed2284471"
      }
    },
    "colab": {
      "provenance": []
    }
  },
  "nbformat": 4,
  "nbformat_minor": 5
}