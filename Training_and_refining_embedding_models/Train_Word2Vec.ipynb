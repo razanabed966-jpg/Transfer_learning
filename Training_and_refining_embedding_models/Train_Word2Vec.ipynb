{
  "cells": [
    {
      "cell_type": "code",
      "source": [
        "from google.colab import drive\n",
        "drive.mount('/content/drive')"
      ],
      "metadata": {
        "id": "9tB4r2P4RRX7"
      },
      "execution_count": null,
      "outputs": []
    },
    {
      "cell_type": "code",
      "execution_count": null,
      "metadata": {
        "id": "38245gHSQ8ay"
      },
      "outputs": [],
      "source": [
        "from nltk.tokenize import word_tokenize\n",
        "from gensim.models import KeyedVectors\n",
        "from gensim.models import Word2Vec"
      ]
    },
    {
      "cell_type": "code",
      "execution_count": null,
      "metadata": {
        "colab": {
          "base_uri": "https://localhost:8080/"
        },
        "id": "ScF0a08VQ8a4",
        "outputId": "f5f442f0-9ef7-485c-deb5-1ab111c213bb"
      },
      "outputs": [
        {
          "output_type": "stream",
          "name": "stderr",
          "text": [
            "WARNING:gensim.models.word2vec:Effective 'alpha' higher than previous training cycles\n"
          ]
        },
        {
          "output_type": "execute_result",
          "data": {
            "text/plain": [
              "(26, 190)"
            ]
          },
          "metadata": {},
          "execution_count": 41
        }
      ],
      "source": [
        "documents = [\"I love programming Python3\",\n",
        "             \"Python3 great programming language\",\n",
        "             \"Machine learning using Python3 fascinating\",\n",
        "             \"Python3 used all AI programming tasks\"]\n",
        "\n",
        "tokenized_documents = [word_tokenize(doc) for doc in documents]\n",
        "\n",
        "word2vec_trained_model = Word2Vec(sentences=tokenized_documents, vector_size=10,  min_count=1)\n",
        "\n",
        "word2vec_trained_model.train(tokenized_documents, total_examples=len(tokenized_documents), epochs=10)"
      ]
    },
    {
      "cell_type": "code",
      "execution_count": null,
      "metadata": {
        "colab": {
          "base_uri": "https://localhost:8080/"
        },
        "id": "NuX0Jo-fQ8a8",
        "outputId": "b0f70ee5-a782-4132-895b-171a31fce14b"
      },
      "outputs": [
        {
          "output_type": "stream",
          "name": "stdout",
          "text": [
            "Python3\n",
            "programming\n",
            "tasks\n",
            "AI\n",
            "all\n",
            "used\n",
            "fascinating\n",
            "using\n",
            "learning\n",
            "Machine\n",
            "language\n",
            "great\n",
            "love\n",
            "I\n"
          ]
        }
      ],
      "source": [
        "keys = word2vec_trained_model.wv.index_to_key\n",
        "\n",
        "for key in keys:\n",
        "    print(key)"
      ]
    },
    {
      "cell_type": "code",
      "execution_count": null,
      "metadata": {
        "colab": {
          "base_uri": "https://localhost:8080/"
        },
        "id": "sWgQRvUBQ8a_",
        "outputId": "588a36e1-e894-4405-c6fb-7a0a9a8f3561"
      },
      "outputs": [
        {
          "output_type": "stream",
          "name": "stdout",
          "text": [
            "Vector for  Python3  : \n",
            "[-0.0053852   0.00238025  0.0510563   0.09007468 -0.09302267 -0.07117538\n",
            "  0.06459755  0.08973698 -0.05016183 -0.03762543]\n"
          ]
        }
      ],
      "source": [
        "word=\"Python3\"\n",
        "word_vector_python = word2vec_trained_model.wv[word]\n",
        "\n",
        "print(\"Vector for \", word, \" : \")\n",
        "print(word_vector_python)"
      ]
    },
    {
      "cell_type": "code",
      "execution_count": null,
      "metadata": {
        "colab": {
          "base_uri": "https://localhost:8080/"
        },
        "id": "6ZVyp7JcQ8bC",
        "outputId": "772be942-a7d3-4e07-da13-a57a1f99980e"
      },
      "outputs": [
        {
          "output_type": "stream",
          "name": "stdout",
          "text": [
            "Fortran  is not in the vocabulary.\n"
          ]
        }
      ],
      "source": [
        "word= 'Fortran'\n",
        "if word in word2vec_trained_model.wv:\n",
        "    word_vector_python = word2vec_trained_model.wv[word]\n",
        "    print(\"Vector for \", word, \" :\")\n",
        "    print(len(word_vector_python))\n",
        "    print(word_vector_python)\n",
        "else:\n",
        "    print(word, \" is not in the vocabulary.\")"
      ]
    },
    {
      "cell_type": "code",
      "execution_count": null,
      "metadata": {
        "colab": {
          "base_uri": "https://localhost:8080/"
        },
        "id": "OgP8B98JQ8bH",
        "outputId": "fc709c79-ef18-40a3-d065-c21c41f99f0f"
      },
      "outputs": [
        {
          "output_type": "stream",
          "name": "stdout",
          "text": [
            "Vocabulary size: 14\n"
          ]
        }
      ],
      "source": [
        "vocab_size = len(word2vec_trained_model.wv.key_to_index)\n",
        "print(\"Vocabulary size:\", vocab_size)"
      ]
    },
    {
      "cell_type": "code",
      "execution_count": null,
      "metadata": {
        "id": "FEPON5DMQ8bJ"
      },
      "outputs": [],
      "source": [
        "model_path = '/content/drive/MyDrive/Colab Notebooks/Hsoub/L06/GoogleNews-vectors-negative300.bin'\n",
        "\n",
        "google_word2vec_model = KeyedVectors.load_word2vec_format(model_path, binary=True)"
      ]
    },
    {
      "cell_type": "code",
      "execution_count": null,
      "metadata": {
        "id": "G38Gvfj3Q8bL"
      },
      "outputs": [],
      "source": [
        "word2vec_custom2_model = Word2Vec(sentences=tokenized_documents,\n",
        "                                 vector_size=300,\n",
        "                                 min_count=1)"
      ]
    },
    {
      "cell_type": "code",
      "execution_count": null,
      "metadata": {
        "id": "_UUmaIMQQ8bN"
      },
      "outputs": [],
      "source": [
        "for word in word2vec_custom2_model.wv.index_to_key:\n",
        "    if word in google_word2vec_model:\n",
        "        word2vec_custom2_model.wv[word] = google_word2vec_model[word]"
      ]
    },
    {
      "cell_type": "code",
      "execution_count": null,
      "metadata": {
        "colab": {
          "base_uri": "https://localhost:8080/"
        },
        "id": "6TfnAJ3bQ8bQ",
        "outputId": "6ae68e55-4a5d-4c4a-9ab3-0fc684d195f7"
      },
      "outputs": [
        {
          "output_type": "stream",
          "name": "stderr",
          "text": [
            "WARNING:gensim.models.word2vec:Effective 'alpha' higher than previous training cycles\n"
          ]
        },
        {
          "output_type": "execute_result",
          "data": {
            "text/plain": [
              "(26, 190)"
            ]
          },
          "metadata": {},
          "execution_count": 49
        }
      ],
      "source": [
        "word2vec_custom2_model.train(tokenized_documents,\n",
        "                            total_examples=len(tokenized_documents), epochs=10)"
      ]
    },
    {
      "cell_type": "code",
      "execution_count": null,
      "metadata": {
        "id": "M1cIAFzjQ8bS"
      },
      "outputs": [],
      "source": [
        "model2_file_path = \"/content/drive/MyDrive/Colab Notebooks/Hsoub/L7/custom2_word2vec_model.bin\"\n",
        "word2vec_custom2_model.wv.save_word2vec_format(model2_file_path, binary=True)"
      ]
    },
    {
      "cell_type": "code",
      "execution_count": null,
      "metadata": {
        "colab": {
          "base_uri": "https://localhost:8080/"
        },
        "id": "eFBrQ3xTQ8bU",
        "outputId": "cab68df7-5bfe-49d3-f4fe-973718f7479b"
      },
      "outputs": [
        {
          "output_type": "stream",
          "name": "stdout",
          "text": [
            "Vocabulary size: 14\n"
          ]
        }
      ],
      "source": [
        "custom2_model = KeyedVectors.load_word2vec_format(model2_file_path, binary=True)\n",
        "\n",
        "vocab_size = len(custom2_model.key_to_index)\n",
        "print(\"Vocabulary size:\", vocab_size)"
      ]
    },
    {
      "cell_type": "code",
      "execution_count": null,
      "metadata": {
        "colab": {
          "base_uri": "https://localhost:8080/"
        },
        "id": "ASkVcBRvQ8bW",
        "outputId": "99caaeec-88b0-40f0-b8a5-0a3ae900e017"
      },
      "outputs": [
        {
          "output_type": "stream",
          "name": "stdout",
          "text": [
            "Add new word :  Python3\n",
            "Update weights for :  programming\n",
            "Update weights for :  tasks\n",
            "Update weights for :  AI\n",
            "Update weights for :  all\n",
            "Update weights for :  used\n",
            "Update weights for :  language\n",
            "Update weights for :  I\n"
          ]
        }
      ],
      "source": [
        "import numpy as np\n",
        "for word in custom2_model.index_to_key:\n",
        "    if word in google_word2vec_model.index_to_key:\n",
        "        if not np.array_equal(google_word2vec_model[word], word2vec_custom2_model.wv[word]):\n",
        "            print(\"Update weights for : \", word)\n",
        "            google_word2vec_model[word] = custom2_model[word]\n",
        "    else:\n",
        "        google_word2vec_model[word] = custom2_model[word]\n",
        "        print(\"Add new word : \", word)"
      ]
    },
    {
      "cell_type": "code",
      "execution_count": null,
      "metadata": {
        "colab": {
          "base_uri": "https://localhost:8080/"
        },
        "id": "SzoQsyOtQ8bZ",
        "outputId": "f7500049-5791-4136-f102-1a8ad60bfbf5"
      },
      "outputs": [
        {
          "output_type": "stream",
          "name": "stdout",
          "text": [
            "Vocabulary size: 3000001\n"
          ]
        }
      ],
      "source": [
        "vocab_size = len(google_word2vec_model.key_to_index)\n",
        "print(\"Vocabulary size:\", vocab_size)"
      ]
    }
  ],
  "metadata": {
    "kernelspec": {
      "display_name": "Python 3",
      "language": "python",
      "name": "python3"
    },
    "language_info": {
      "codemirror_mode": {
        "name": "ipython",
        "version": 3
      },
      "file_extension": ".py",
      "mimetype": "text/x-python",
      "name": "python",
      "nbconvert_exporter": "python",
      "pygments_lexer": "ipython3",
      "version": "3.11.3"
    },
    "orig_nbformat": 4,
    "colab": {
      "provenance": []
    }
  },
  "nbformat": 4,
  "nbformat_minor": 0
}