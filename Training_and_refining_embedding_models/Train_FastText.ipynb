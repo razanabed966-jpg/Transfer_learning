{
  "cells": [
    {
      "cell_type": "code",
      "execution_count": null,
      "metadata": {
        "colab": {
          "base_uri": "https://localhost:8080/"
        },
        "id": "9QcOTtm6kTnC",
        "outputId": "d173350d-7c42-42ca-946d-6720c0dacdc1"
      },
      "outputs": [
        {
          "name": "stdout",
          "output_type": "stream",
          "text": [
            "Drive already mounted at /content/drive; to attempt to forcibly remount, call drive.mount(\"/content/drive\", force_remount=True).\n"
          ]
        }
      ],
      "source": [
        "from google.colab import drive\n",
        "drive.mount('/content/drive')"
      ]
    },
    {
      "cell_type": "code",
      "execution_count": null,
      "metadata": {
        "colab": {
          "base_uri": "https://localhost:8080/"
        },
        "id": "eEc_yxQbyvtH",
        "outputId": "3028e61b-9d41-4bae-bb5d-3725038f88ea"
      },
      "outputs": [
        {
          "name": "stdout",
          "output_type": "stream",
          "text": [
            "Requirement already satisfied: fasttext in /usr/local/lib/python3.10/dist-packages (0.9.3)\n",
            "Requirement already satisfied: pybind11>=2.2 in /usr/local/lib/python3.10/dist-packages (from fasttext) (2.13.1)\n",
            "Requirement already satisfied: setuptools>=0.7.0 in /usr/local/lib/python3.10/dist-packages (from fasttext) (67.7.2)\n",
            "Requirement already satisfied: numpy in /usr/local/lib/python3.10/dist-packages (from fasttext) (1.25.2)\n"
          ]
        }
      ],
      "source": [
        "!pip install fasttext"
      ]
    },
    {
      "cell_type": "code",
      "execution_count": null,
      "metadata": {
        "id": "yftmgCeEj4rQ"
      },
      "outputs": [],
      "source": [
        "import fasttext\n",
        "new_text_data_path='/content/drive/MyDrive/Colab Notebooks/Hsoub/L7/data.txt'\n",
        "new_model = fasttext.train_supervised(new_text_data_path)\n"
      ]
    },
    {
      "cell_type": "code",
      "execution_count": null,
      "metadata": {
        "id": "igAEOWjSj4sS"
      },
      "outputs": [],
      "source": [
        "new_model_path='/content/drive/MyDrive/Colab Notebooks/Hsoub/L7/new_fasttext_model.bin'\n",
        "new_model.save_model(new_model_path)"
      ]
    },
    {
      "cell_type": "code",
      "execution_count": null,
      "metadata": {
        "id": "cEN9GjSaj4sZ"
      },
      "outputs": [],
      "source": [
        "new_model = fasttext.load_model(new_model_path)"
      ]
    },
    {
      "cell_type": "code",
      "execution_count": null,
      "metadata": {
        "colab": {
          "base_uri": "https://localhost:8080/"
        },
        "id": "iT07Hc7Pj4sc",
        "outputId": "21037e29-4be5-4234-f8d1-ba1513da9873"
      },
      "outputs": [
        {
          "data": {
            "text/plain": [
              "['</s>',\n",
              " 'الرحمن',\n",
              " 'الرحيم',\n",
              " 'عليهم',\n",
              " 'وإياك',\n",
              " 'آمين',\n",
              " 'الضالين',\n",
              " 'ولا',\n",
              " 'المغضوب',\n",
              " 'غير',\n",
              " 'أنعمت',\n",
              " 'الذين',\n",
              " 'صراط',\n",
              " 'المستقيم',\n",
              " 'الصراط',\n",
              " 'اهدنا',\n",
              " 'نستعين',\n",
              " 'بسم',\n",
              " 'نعبد',\n",
              " 'إياك',\n",
              " 'الدين',\n",
              " 'يوم',\n",
              " 'مالك',\n",
              " 'العالمين',\n",
              " 'رب',\n",
              " 'لله',\n",
              " 'الحمد',\n",
              " 'الله']"
            ]
          },
          "execution_count": 6,
          "metadata": {},
          "output_type": "execute_result"
        }
      ],
      "source": [
        "new_model.get_words()"
      ]
    },
    {
      "cell_type": "code",
      "execution_count": null,
      "metadata": {
        "colab": {
          "base_uri": "https://localhost:8080/"
        },
        "id": "vxk7Tdwkj4sf",
        "outputId": "267a71e5-bbde-44f6-a70e-95220b981948"
      },
      "outputs": [
        {
          "data": {
            "text/plain": [
              "array([ 0.00238093,  0.00509113,  0.00831976, -0.00927015,  0.00661152,\n",
              "        0.00807286, -0.00648016,  0.00133566, -0.00343636, -0.00210862,\n",
              "       -0.00070896, -0.00633463, -0.00485001,  0.00221098, -0.00606992,\n",
              "       -0.00717415,  0.00338688,  0.00603667, -0.00688208, -0.00057144,\n",
              "       -0.00488543,  0.00987955,  0.00397523,  0.00694702, -0.00861237,\n",
              "       -0.00616428, -0.00983707, -0.00120694, -0.00220774, -0.00728686,\n",
              "       -0.00501538, -0.00077216,  0.00396778, -0.00586287, -0.00635476,\n",
              "       -0.00211214, -0.00715075,  0.00431303, -0.00053761, -0.0027656 ,\n",
              "       -0.0099938 ,  0.00944217, -0.00514806,  0.00308559,  0.00880401,\n",
              "        0.00192514,  0.00807715, -0.00336937, -0.00391913,  0.00350796,\n",
              "       -0.00100431, -0.00181935,  0.0023661 ,  0.00489011, -0.00905311,\n",
              "        0.00352073, -0.00963604,  0.0006935 ,  0.00876348, -0.00243911,\n",
              "       -0.00015379,  0.00351502,  0.00568376,  0.00787363,  0.00454237,\n",
              "       -0.00356971, -0.00709526, -0.00525634, -0.00576154, -0.00568993,\n",
              "        0.00156353,  0.00505632,  0.0058047 , -0.00733124, -0.0023909 ,\n",
              "       -0.00252901, -0.00390956,  0.00289598,  0.00645355,  0.00565575,\n",
              "        0.00048762, -0.0058168 ,  0.00268054,  0.00279135,  0.00477892,\n",
              "        0.00360709, -0.00201188, -0.00985829, -0.00474296,  0.00727802,\n",
              "        0.00288402,  0.00248757,  0.00252069,  0.00179133,  0.00933011,\n",
              "        0.00230927, -0.0006344 ,  0.00242033, -0.00682412, -0.00715008],\n",
              "      dtype=float32)"
            ]
          },
          "execution_count": 7,
          "metadata": {},
          "output_type": "execute_result"
        }
      ],
      "source": [
        "word=\"الرحمن\"\n",
        "word_embedding = new_model[word]\n",
        "word_embedding\n"
      ]
    },
    {
      "cell_type": "code",
      "execution_count": null,
      "metadata": {
        "id": "elG_1b9mycbg"
      },
      "outputs": [],
      "source": [
        "#https://dl.fbaipublicfiles.com/fasttext/vectors-crawl/cc.ar.300.vec.gz"
      ]
    },
    {
      "cell_type": "code",
      "execution_count": null,
      "metadata": {
        "id": "6-WLmlAnj4sn"
      },
      "outputs": [],
      "source": [
        "pre_trained_model_path='/content/drive/MyDrive/Colab Notebooks/Hsoub/L7/cc.ar.300.vec'\n"
      ]
    },
    {
      "cell_type": "code",
      "execution_count": null,
      "metadata": {
        "colab": {
          "background_save": true
        },
        "id": "bQPcz0exj4sr"
      },
      "outputs": [],
      "source": [
        "fine_tuned_model = fasttext.train_unsupervised(new_text_data_path,\n",
        "                                               dim=300,\n",
        "                                               pretrainedVectors=pre_trained_model_path)\n"
      ]
    },
    {
      "cell_type": "code",
      "execution_count": null,
      "metadata": {
        "colab": {
          "background_save": true
        },
        "id": "T_qmCn5mj4s7"
      },
      "outputs": [],
      "source": [
        "fine_tuned_model_path=\"/content/drive/MyDrive/Colab Notebooks/Hsoub/L7/fine_tuned_model.bin\"\n",
        "fine_tuned_model.save_model(fine_tuned_model_path)"
      ]
    },
    {
      "cell_type": "code",
      "execution_count": null,
      "metadata": {
        "id": "vxUygj2uj4s-"
      },
      "outputs": [],
      "source": [
        "fine_tuned_model = fasttext.load_model(fine_tuned_model_path)\n",
        "word=\"الرحمن\"\n",
        "word_embedding = fine_tuned_model.get_word_vector(word)\n",
        "word_embedding"
      ]
    }
  ],
  "metadata": {
    "accelerator": "GPU",
    "colab": {
      "gpuType": "T4",
      "provenance": []
    },
    "kernelspec": {
      "display_name": "Python 3",
      "name": "python3"
    },
    "language_info": {
      "codemirror_mode": {
        "name": "ipython",
        "version": 3
      },
      "file_extension": ".py",
      "mimetype": "text/x-python",
      "name": "python",
      "nbconvert_exporter": "python",
      "pygments_lexer": "ipython3",
      "version": "3.11.3"
    }
  },
  "nbformat": 4,
  "nbformat_minor": 0
}